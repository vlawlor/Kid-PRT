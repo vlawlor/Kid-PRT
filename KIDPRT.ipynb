{
 "cells": [
  {
   "cell_type": "markdown",
   "metadata": {},
   "source": [
    "# HDDM analysis of pre- and post-treatment data from 43 HCs and 38 MDD adolescent females"
   ]
  },
  {
   "cell_type": "markdown",
   "metadata": {},
   "source": [
    "[Cleaning](#Cleaning)  \n",
    "[Baseline](#Baseline)   \n",
    "[Follow Up](#Follow-Up)  "
   ]
  },
  {
   "cell_type": "code",
   "execution_count": 268,
   "metadata": {
    "collapsed": false,
    "scrolled": true
   },
   "outputs": [
    {
     "name": "stdout",
     "output_type": "stream",
     "text": [
      "The rpy2.ipython extension is already loaded. To reload it, use:\n",
      "  %reload_ext rpy2.ipython\n"
     ]
    },
    {
     "data": {
      "text/plain": [
       "array(['cocor', 'ppcor', 'MASS', 'afex', 'reshape2', 'lmerTest', 'lme4',\n",
       "       'Matrix', 'lsmeans', 'estimability', 'tools', 'stats', 'graphics',\n",
       "       'grDevices', 'utils', 'datasets', 'methods', 'base'], \n",
       "      dtype='<U12')"
      ]
     },
     "execution_count": 268,
     "metadata": {},
     "output_type": "execute_result"
    }
   ],
   "source": [
    "import datetime, mmap,os,re, sys, decimal, hddm, glob\n",
    "import numpy as np \n",
    "import pandas as pd\n",
    "import seaborn as sns \n",
    "import matplotlib.pyplot as plt\n",
    "import scipy as sp\n",
    "from patsy import dmatrix\n",
    "%matplotlib inline\n",
    "import warnings \n",
    "warnings.filterwarnings('ignore')\n",
    "os.environ['R_HOME'] = '/Users/mlm2/anaconda/envs/pythonthreefive/lib/R' # couldn't find R in this environment for some reason\n",
    "% matplotlib inline \n",
    "% load_ext rpy2.ipython\n",
    "%R library(lsmeans)\n",
    "%R library(lmerTest)\n",
    "%R library(afex)\n",
    "%R library(ppcor)\n",
    "%R library(cocor)"
   ]
  },
  {
   "cell_type": "code",
   "execution_count": 269,
   "metadata": {
    "collapsed": true
   },
   "outputs": [],
   "source": [
    "uname = !whoami\n",
    "uname = uname[0]\n",
    "path2data = '/Users/victorialawlor/Work/Expts/KIDPRT/Data/'"
   ]
  },
  {
   "cell_type": "markdown",
   "metadata": {},
   "source": [
    "# Cleaning"
   ]
  },
  {
   "cell_type": "markdown",
   "metadata": {},
   "source": [
    "For sub DTC066 (CTL) we have data from three sessions on 12/2/16, 1/21/17, and 3/13/17. The last two are combined into the same file. Excluding subject for now."
   ]
  },
  {
   "cell_type": "code",
   "execution_count": 489,
   "metadata": {
    "collapsed": false
   },
   "outputs": [],
   "source": [
    "def SigDetParse(fname):\n",
    "    '''Open the file, pull out key vars, output a clean df.'''\n",
    "    \n",
    "    df = []\n",
    "    d = {}\n",
    "    ct = 0\n",
    "\n",
    "    with open(fname) as f:\n",
    "        f = f.readlines()[17:]\n",
    "        for line in f:\n",
    "            #print(line)\n",
    "            #print(line.split(' '))\n",
    "            d[ct] = {'trial':line.split(' ')[1],\n",
    "                     'length':line.split(' ')[2],\n",
    "                     'rt':line.split(' ')[3], \n",
    "                     'key_press':line.split(' ')[4],\n",
    "                     'correct':line.split(' ')[7],\n",
    "                     'did_reward':line.split(' ')[9],\n",
    "                     'reward_due':line.split(' ')[11],\n",
    "                     'little_due':line.split(' ')[13],\n",
    "                     'big_due':line.split(' ')[15].strip('\\n')}\n",
    "            ct = ct + 1\n",
    "\n",
    "    df = pd.DataFrame.from_dict(d,orient='index')\n",
    "    \n",
    "    with open(fname) as f:\n",
    "        for line in f:\n",
    "            if line.count(':') == 1:\n",
    "                value = ''\n",
    "                label = line.split(':')[0]\n",
    "                label = label.replace(' ', '_')\n",
    "                value = line.split(':')[1].strip('\\n').replace('{','').strip('}')\n",
    "                df[label] = value\n",
    "                df['subjectID'] = fname[50:56]\n",
    "                df['file_session'] = fname[59]\n",
    "                df['group'] = df.subjectID.str[:3]\n",
    "                df.loc[df.group == 'DTC', 'group'] = 'CTL'\n",
    "                df.loc[df.group == 'DTD', 'group'] = 'MDD'\n",
    "    return df"
   ]
  },
  {
   "cell_type": "code",
   "execution_count": 490,
   "metadata": {
    "collapsed": false,
    "scrolled": false
   },
   "outputs": [],
   "source": [
    "dfs = []\n",
    "files = (glob.glob(path2data + '/Raw/DT*/*-.txt'))\n",
    "for file in files:\n",
    "    df = SigDetParse(file)\n",
    "    dfs.append(df)\n",
    "out = pd.DataFrame\n",
    "out = pd.concat(dfs)\n",
    "out.head(10)\n",
    "out.rename(columns={'Subject':'subject', 'Session':'session', 'Short_Key':'short_key', \n",
    "                    'Long_Key':'long_key', 'Bias':'bias'}, inplace=True)\n",
    "out.to_csv(path2data + 'trial_all.csv')"
   ]
  },
  {
   "cell_type": "code",
   "execution_count": 491,
   "metadata": {
    "collapsed": false
   },
   "outputs": [
    {
     "name": "stdout",
     "output_type": "stream",
     "text": [
      "group\n",
      "CTL    43\n",
      "MDD    37\n",
      "Name: subjectID, dtype: int64\n"
     ]
    },
    {
     "data": {
      "text/plain": [
       "array(['DTC020', 'DTC021', 'DTC022', 'DTC023', 'DTC024', 'DTC025',\n",
       "       'DTC026', 'DTC027', 'DTC029', 'DTC030', 'DTC031', 'DTC033',\n",
       "       'DTC034', 'DTC035', 'DTC036', 'DTC037', 'DTC038', 'DTC039',\n",
       "       'DTC040', 'DTC041', 'DTC042', 'DTC043', 'DTC044', 'DTC045',\n",
       "       'DTC047', 'DTC048', 'DTC049', 'DTC050', 'DTC051', 'DTC052',\n",
       "       'DTC053', 'DTC054', 'DTC056', 'DTC058', 'DTC059', 'DTC060',\n",
       "       'DTC061', 'DTC062', 'DTC063', 'DTC064', 'DTC065', 'DTC066',\n",
       "       'DTC067', 'DTD511', 'DTD513', 'DTD516', 'DTD518', 'DTD519',\n",
       "       'DTD520', 'DTD521', 'DTD525', 'DTD526', 'DTD529', 'DTD530',\n",
       "       'DTD531', 'DTD532', 'DTD533', 'DTD534', 'DTD535', 'DTD536',\n",
       "       'DTD537', 'DTD538', 'DTD539', 'DTD540', 'DTD542', 'DTD543',\n",
       "       'DTD544', 'DTD548', 'DTD549', 'DTD550', 'DTD551', 'DTD552',\n",
       "       'DTD554', 'DTD556', 'DTD560', 'DTD561', 'DTD562', 'DTD564',\n",
       "       'DTD565', 'DTD567'], dtype=object)"
      ]
     },
     "execution_count": 491,
     "metadata": {},
     "output_type": "execute_result"
    }
   ],
   "source": [
    "# Checking number of subjects, this lines up with what Randy gave us (38 mdds completed session 1 but DTD510 was \n",
    "# later found ineligible)\n",
    "\n",
    "print(out.groupby('group').subjectID.nunique())\n",
    "out.subjectID.unique()"
   ]
  },
  {
   "cell_type": "code",
   "execution_count": 492,
   "metadata": {
    "collapsed": true
   },
   "outputs": [],
   "source": [
    "# splitting up by sessions\n",
    "session1 = out.loc[out.session == '1']\n",
    "session2 = out.loc[out.session == '2']"
   ]
  },
  {
   "cell_type": "code",
   "execution_count": 493,
   "metadata": {
    "collapsed": false
   },
   "outputs": [
    {
     "data": {
      "text/plain": [
       "group\n",
       "CTL    43\n",
       "MDD    37\n",
       "Name: subjectID, dtype: int64"
      ]
     },
     "execution_count": 493,
     "metadata": {},
     "output_type": "execute_result"
    }
   ],
   "source": [
    "# looks correct\n",
    "session1.groupby('group').subjectID.nunique()"
   ]
  },
  {
   "cell_type": "code",
   "execution_count": 494,
   "metadata": {
    "collapsed": false
   },
   "outputs": [
    {
     "data": {
      "text/plain": [
       "group\n",
       "CTL    36\n",
       "MDD    23\n",
       "Name: subjectID, dtype: int64"
      ]
     },
     "execution_count": 494,
     "metadata": {},
     "output_type": "execute_result"
    }
   ],
   "source": [
    "# missing 4 ctls originally, DTC065 was entered as DTC066 which explained\n",
    "# two of those, I fixed by hand and reran sigdetparse. \n",
    "# We are still missing 2 healthy controls\n",
    "session2.groupby('group').subjectID.nunique()"
   ]
  },
  {
   "cell_type": "code",
   "execution_count": 495,
   "metadata": {
    "collapsed": false
   },
   "outputs": [
    {
     "name": "stdout",
     "output_type": "stream",
     "text": [
      "DTC027\n",
      "DTC029\n",
      "DTC030\n",
      "DTC041\n",
      "DTC043\n",
      "DTC048\n",
      "DTC054\n"
     ]
    }
   ],
   "source": [
    "# We don't have a list of controls who completed/didn't complete to compare to, should\n",
    "# try to get that from Randy\n",
    "\n",
    "for item in session1.loc[session1.group == 'CTL'].subjectID.unique():\n",
    "    if item in session2.loc[session2.group == 'CTL'].subjectID.unique():\n",
    "        pass\n",
    "    else:\n",
    "        print(item)"
   ]
  },
  {
   "cell_type": "code",
   "execution_count": 496,
   "metadata": {
    "collapsed": true
   },
   "outputs": [],
   "source": [
    "session1.to_csv(path2data + 'trial_session1.csv')\n",
    "session2.to_csv(path2data + 'trial_session2.csv')"
   ]
  },
  {
   "cell_type": "markdown",
   "metadata": {},
   "source": [
    "## Session 1"
   ]
  },
  {
   "cell_type": "code",
   "execution_count": 505,
   "metadata": {
    "collapsed": false
   },
   "outputs": [],
   "source": [
    "# adding rich and lean columns, blocks\n",
    "out = pd.read_csv(path2data + 'trial_session1.csv')\n",
    "out['subject'] = out.subjectID\n",
    "data = out.reset_index()\n",
    "del data['Unnamed: 0']\n",
    "\n",
    "data.bias = data.bias.apply(lambda x: x.strip(' '))\n",
    "data.trial = data.trial.apply(lambda x: int(x))\n",
    "data['rl_stim'] = ''\n",
    "data.loc[data['length'] == data['bias'], 'rl_stim'] = 'rich_stim'\n",
    "data.loc[data['length'] != data['bias'], 'rl_stim'] = 'lean_stim'\n",
    "\n",
    "data['rich_key'] = ''\n",
    "data.loc[data['bias'] == 'short', 'rich_key'] = data['short_key']\n",
    "data.loc[data['bias'] == 'long', 'rich_key'] = data['long_key']\n",
    "data.rich_key = data.rich_key.apply(lambda x: x.strip(' '))\n",
    "\n",
    "data['rl_resp'] = ''\n",
    "data.loc[data['key_press'] == data['rich_key'], 'rl_resp'] = 'rich_resp'\n",
    "data.loc[data['key_press'] != data['rich_key'], 'rl_resp'] = 'lean_resp'\n",
    "\n",
    "data['block'] = 0\n",
    "data.loc[data.trial <= 200, 'block'] = 2\n",
    "data.loc[data.trial <= 100, 'block'] = 1"
   ]
  },
  {
   "cell_type": "markdown",
   "metadata": {},
   "source": [
    "#### Quality control (trials):\n",
    "\"PRT trials were considered outliers and excluded from analysis if the raw RT was less than 150 ms or greater than 2500 ms, or if the log transformed RT was greater than 3 S.D.s from the participant’s mean.\""
   ]
  },
  {
   "cell_type": "code",
   "execution_count": 506,
   "metadata": {
    "collapsed": false
   },
   "outputs": [],
   "source": [
    "# Mark trials as outliers if 150 > time > 2500\n",
    "\n",
    "data.rt = data.rt.apply(lambda x: int(x))\n",
    "data['ln_rt'] = data.rt.apply(np.log)\n",
    "data['outlier'] = 0\n",
    "data.loc[(data['rt'] > 2500) | (data['rt'] < 150), 'outlier'] = 1\n",
    "\n",
    "cleandata = data[data.outlier == 0]\n",
    "data['mean_ln_rt'] = 0 # make columns of interest\n",
    "data['ln_std'] = 0\n",
    "for sub in data.subjectID.unique():\n",
    "    mean = cleandata[cleandata.subjectID == sub].ln_rt.mean()\n",
    "    std = cleandata[cleandata.subjectID == sub].ln_rt.std()\n",
    "    data.loc[data.subjectID == sub, 'mean_ln_rt'] = mean\n",
    "    data.loc[data.subjectID == sub, 'ln_std'] = std\n",
    "    \n",
    "# Mark trials as outliers if the ln rt is > 3sd from the mean\n",
    "\n",
    "data.loc[(data.ln_rt > (3*data.ln_std + data.mean_ln_rt)), 'outlier'] = 1"
   ]
  },
  {
   "cell_type": "markdown",
   "metadata": {},
   "source": [
    "#### Quality control (subjects):\n",
    "\"Additionally, participants with more than 20 outlier trials in each block, less than 24 rich or 7 lean rewards in each block, less than a 2.5 rich-to-lean reward ratio in either block, or accuracy less than 0.4 for rich or lean trials in either block were excluded from analysis.\""
   ]
  },
  {
   "cell_type": "code",
   "execution_count": 507,
   "metadata": {
    "collapsed": true
   },
   "outputs": [],
   "source": [
    "data.to_csv('help.csv')"
   ]
  },
  {
   "cell_type": "code",
   "execution_count": 508,
   "metadata": {
    "collapsed": false,
    "scrolled": false
   },
   "outputs": [
    {
     "name": "stdout",
     "output_type": "stream",
     "text": [
      "25\n",
      "Subject DTC031 was excluded for having more than 20 outlier trials\n",
      "33\n",
      "Subject DTC031 was excluded for having more than 20 outlier trials\n",
      "Subject DTC038 was excluded for low accuracy\n",
      "Subject DTC047 was excluded for having too few rich rewarded trials\n",
      "Subject DTC056 was excluded for having too few rich rewarded trials\n",
      "Subject DTC060 was excluded for low accuracy\n",
      "Subject DTD526 was excluded for low accuracy\n",
      "28\n",
      "Subject DTD531 was excluded for having more than 20 outlier trials\n",
      "28\n",
      "Subject DTD531 was excluded for having more than 20 outlier trials\n",
      "Subject DTD534 was excluded for having too few rich rewarded trials\n",
      "Subject DTD543 was excluded for having too few rich rewarded trials\n",
      "Subject DTD543 was excluded for low accuracy\n"
     ]
    }
   ],
   "source": [
    "data.did_reward = data.did_reward.apply(lambda x: int(x))\n",
    "data.correct = data.correct.apply(lambda x: int(x))\n",
    "data['outlier_sub'] = 0\n",
    "for subject in data.subjectID.unique():\n",
    "    for block in data.block.unique():\n",
    "        \n",
    "        noutliers = data[(data.subject == subject) & (data.block == block)].outlier.sum()\n",
    "        \n",
    "        nrichrew = data[(data.subject == subject) & (data.rl_stim == 'rich_stim') & (data.block == block)].did_reward.sum()\n",
    "        nleanrew = data[(data.subject == subject) & (data.rl_stim == 'lean_stim') & (data.block == block)].did_reward.sum()\n",
    "        ratio = nrichrew/nleanrew\n",
    "        rhaccuracy = data[(data.subject == subject) & (data.rl_stim == 'rich_stim') & (data.block == block)].correct.sum()\n",
    "        rhcount = data[(data.subject == subject) & (data.rl_stim == 'rich_stim') & (data.block == block)].correct.count()\n",
    "        lnaccuracy = data[(data.subject == subject) & (data.rl_stim == 'lean_stim') & (data.block == block)].correct.sum()\n",
    "        lncount = data[(data.subject == subject) & (data.rl_stim == 'lean_stim') & (data.block == block)].correct.count()\n",
    "        if noutliers > 20:\n",
    "            print(noutliers)\n",
    "            print ('Subject ' + str(subject) + ' was excluded for having more than 20 outlier trials')\n",
    "            data.loc[data.subject == subject, 'outlier_sub'] = 1\n",
    "        elif nrichrew < 24:\n",
    "            data.loc[data.subject == subject, 'outlier_sub'] = 1 # mark participants as outliers if they have \n",
    "                                                                 # less than 24 rewarded rich trials\n",
    "            print('Subject ' + str(subject) + ' was excluded for having too few rich rewarded trials')\n",
    "        elif nleanrew < 7:\n",
    "            data.loc[data.subject == subject, 'outlier_sub'] = 1 # mark participants as outliers if they have \n",
    "                                                                 # less than 7 rewarded lean trials\n",
    "            print('Subject ' + str(subject) + ' was excluded for having too few lean rewarded trials')\n",
    "        elif rhaccuracy < (.4*rhcount) or lnaccuracy < (.4*lncount):\n",
    "            data.loc[data.subject == subject, 'outlier_sub'] = 1 # mark participants as outliers if they have \n",
    "                                                                 # less than 7 rewarded lean trials\n",
    "            print('Subject ' + str(subject) + ' was excluded for low accuracy')\n",
    "        "
   ]
  },
  {
   "cell_type": "code",
   "execution_count": 509,
   "metadata": {
    "collapsed": false
   },
   "outputs": [
    {
     "data": {
      "text/plain": [
       "71"
      ]
     },
     "execution_count": 509,
     "metadata": {},
     "output_type": "execute_result"
    }
   ],
   "source": [
    "# take only the clean data\n",
    "data = data[data.outlier == 0]\n",
    "data = data[data.outlier_sub == 0]\n",
    "data.subjectID.nunique() "
   ]
  },
  {
   "cell_type": "code",
   "execution_count": 510,
   "metadata": {
    "collapsed": true
   },
   "outputs": [],
   "source": [
    "data.to_csv('/Users/victorialawlor/Work/Expts/KIDPRT/Data/session1_trial_clean.csv')"
   ]
  },
  {
   "cell_type": "code",
   "execution_count": 511,
   "metadata": {
    "collapsed": true
   },
   "outputs": [],
   "source": [
    "data = pd.read_csv('/Users/victorialawlor/Work/Expts/KIDPRT/Data/session1_trial_clean.csv')"
   ]
  },
  {
   "cell_type": "markdown",
   "metadata": {},
   "source": [
    "### Calculate RB & Discriminability"
   ]
  },
  {
   "cell_type": "code",
   "execution_count": 350,
   "metadata": {
    "collapsed": true
   },
   "outputs": [],
   "source": [
    "def calc_rb(subject, data):\n",
    "    '''Given a subject and dataframe, returns the discriminability and response bias for the subject'''\n",
    "    rh_correct = data[(data.subject == subject) & (data.rl_stim == 'rich_stim')].correct.sum() + .5\n",
    "    rh_incorrect = data[(data.subject == subject) & (data.rl_stim == 'rich_stim') & (data.correct == 0)].correct.count() + .5\n",
    "    ln_correct = data[(data.subject == subject) & (data.rl_stim == 'lean_stim')].correct.sum() + .5\n",
    "    ln_incorrect = data[(data.subject == subject) & (data.rl_stim == 'lean_stim') & (data.correct == 0)].correct.count() + .5\n",
    "    \n",
    "    rb = .5 * np.log10((rh_correct * ln_incorrect)/(rh_incorrect * ln_correct))\n",
    "    disc = .5 * np.log10((rh_correct * ln_correct)/(rh_incorrect * ln_incorrect))\n",
    "    \n",
    "    return(rb, disc)"
   ]
  },
  {
   "cell_type": "code",
   "execution_count": 351,
   "metadata": {
    "collapsed": true
   },
   "outputs": [],
   "source": [
    "for subject in data.subject.unique():\n",
    "    rb, disc = calc_rb(subject, data)\n",
    "    data.loc[data.subject == subject, 'RB_adjst_all_total'] = rb\n",
    "    data.loc[data.subject == subject, 'dis_adjst_all_total'] = disc\n",
    "    for block in data.block.unique():\n",
    "        rb, disc = calc_rb(subject, data[data.block == block])\n",
    "        data.loc[(data.subject == subject) & (data.block == block), 'RB_adjst_all_block'] = rb\n",
    "        data.loc[(data.subject == subject) & (data.block == block), 'dis_adjst_all_block'] = disc  \n",
    "for subject in data.subject.unique():\n",
    "    block1_rb = data[(data.subject == subject) & (data.block == 1)].RB_adjst_all_block.mean()\n",
    "    block2_rb = data[(data.subject == subject) & (data.block == 2)].RB_adjst_all_block.mean()\n",
    "    b2_minus_b1 = block2_rb - block1_rb\n",
    "    data.loc[data.subject == subject, 'RB_b2_minus_b1'] = b2_minus_b1"
   ]
  },
  {
   "cell_type": "code",
   "execution_count": 352,
   "metadata": {
    "collapsed": false,
    "scrolled": true
   },
   "outputs": [
    {
     "data": {
      "text/html": [
       "<div>\n",
       "<table border=\"1\" class=\"dataframe\">\n",
       "  <thead>\n",
       "    <tr style=\"text-align: right;\">\n",
       "      <th></th>\n",
       "      <th>Unnamed: 0</th>\n",
       "      <th>Unnamed: 0.1</th>\n",
       "      <th>index</th>\n",
       "      <th>rt</th>\n",
       "      <th>little_due</th>\n",
       "      <th>big_due</th>\n",
       "      <th>trial</th>\n",
       "      <th>reward_due</th>\n",
       "      <th>did_reward</th>\n",
       "      <th>length</th>\n",
       "      <th>...</th>\n",
       "      <th>ln_rt</th>\n",
       "      <th>outlier</th>\n",
       "      <th>mean_ln_rt</th>\n",
       "      <th>ln_std</th>\n",
       "      <th>outlier_sub</th>\n",
       "      <th>RB_adjst_all_total</th>\n",
       "      <th>dis_adjst_all_total</th>\n",
       "      <th>RB_adjst_all_block</th>\n",
       "      <th>dis_adjst_all_block</th>\n",
       "      <th>RB_b2_minus_b1</th>\n",
       "    </tr>\n",
       "  </thead>\n",
       "  <tbody>\n",
       "    <tr>\n",
       "      <th>0</th>\n",
       "      <td>0</td>\n",
       "      <td>0</td>\n",
       "      <td>0</td>\n",
       "      <td>670</td>\n",
       "      <td>0</td>\n",
       "      <td>0</td>\n",
       "      <td>1</td>\n",
       "      <td>1</td>\n",
       "      <td>1</td>\n",
       "      <td>short</td>\n",
       "      <td>...</td>\n",
       "      <td>6.507278</td>\n",
       "      <td>0</td>\n",
       "      <td>6.111284</td>\n",
       "      <td>0.277035</td>\n",
       "      <td>0</td>\n",
       "      <td>-0.210782</td>\n",
       "      <td>0.670529</td>\n",
       "      <td>0.068238</td>\n",
       "      <td>0.767208</td>\n",
       "      <td>-0.535316</td>\n",
       "    </tr>\n",
       "    <tr>\n",
       "      <th>1</th>\n",
       "      <td>1</td>\n",
       "      <td>1</td>\n",
       "      <td>1</td>\n",
       "      <td>748</td>\n",
       "      <td>0</td>\n",
       "      <td>1</td>\n",
       "      <td>2</td>\n",
       "      <td>1</td>\n",
       "      <td>0</td>\n",
       "      <td>long</td>\n",
       "      <td>...</td>\n",
       "      <td>6.617403</td>\n",
       "      <td>0</td>\n",
       "      <td>6.111284</td>\n",
       "      <td>0.277035</td>\n",
       "      <td>0</td>\n",
       "      <td>-0.210782</td>\n",
       "      <td>0.670529</td>\n",
       "      <td>0.068238</td>\n",
       "      <td>0.767208</td>\n",
       "      <td>-0.535316</td>\n",
       "    </tr>\n",
       "    <tr>\n",
       "      <th>2</th>\n",
       "      <td>2</td>\n",
       "      <td>2</td>\n",
       "      <td>2</td>\n",
       "      <td>885</td>\n",
       "      <td>0</td>\n",
       "      <td>1</td>\n",
       "      <td>3</td>\n",
       "      <td>0</td>\n",
       "      <td>0</td>\n",
       "      <td>short</td>\n",
       "      <td>...</td>\n",
       "      <td>6.785588</td>\n",
       "      <td>0</td>\n",
       "      <td>6.111284</td>\n",
       "      <td>0.277035</td>\n",
       "      <td>0</td>\n",
       "      <td>-0.210782</td>\n",
       "      <td>0.670529</td>\n",
       "      <td>0.068238</td>\n",
       "      <td>0.767208</td>\n",
       "      <td>-0.535316</td>\n",
       "    </tr>\n",
       "    <tr>\n",
       "      <th>3</th>\n",
       "      <td>3</td>\n",
       "      <td>3</td>\n",
       "      <td>3</td>\n",
       "      <td>680</td>\n",
       "      <td>0</td>\n",
       "      <td>1</td>\n",
       "      <td>4</td>\n",
       "      <td>1</td>\n",
       "      <td>1</td>\n",
       "      <td>long</td>\n",
       "      <td>...</td>\n",
       "      <td>6.522093</td>\n",
       "      <td>0</td>\n",
       "      <td>6.111284</td>\n",
       "      <td>0.277035</td>\n",
       "      <td>0</td>\n",
       "      <td>-0.210782</td>\n",
       "      <td>0.670529</td>\n",
       "      <td>0.068238</td>\n",
       "      <td>0.767208</td>\n",
       "      <td>-0.535316</td>\n",
       "    </tr>\n",
       "    <tr>\n",
       "      <th>4</th>\n",
       "      <td>4</td>\n",
       "      <td>4</td>\n",
       "      <td>4</td>\n",
       "      <td>869</td>\n",
       "      <td>0</td>\n",
       "      <td>1</td>\n",
       "      <td>5</td>\n",
       "      <td>0</td>\n",
       "      <td>0</td>\n",
       "      <td>short</td>\n",
       "      <td>...</td>\n",
       "      <td>6.767343</td>\n",
       "      <td>0</td>\n",
       "      <td>6.111284</td>\n",
       "      <td>0.277035</td>\n",
       "      <td>0</td>\n",
       "      <td>-0.210782</td>\n",
       "      <td>0.670529</td>\n",
       "      <td>0.068238</td>\n",
       "      <td>0.767208</td>\n",
       "      <td>-0.535316</td>\n",
       "    </tr>\n",
       "  </tbody>\n",
       "</table>\n",
       "<p>5 rows × 34 columns</p>\n",
       "</div>"
      ],
      "text/plain": [
       "   Unnamed: 0  Unnamed: 0.1  index   rt  little_due  big_due  trial  \\\n",
       "0           0             0      0  670           0        0      1   \n",
       "1           1             1      1  748           0        1      2   \n",
       "2           2             2      2  885           0        1      3   \n",
       "3           3             3      3  680           0        1      4   \n",
       "4           4             4      4  869           0        1      5   \n",
       "\n",
       "   reward_due  did_reward length      ...           ln_rt  outlier mean_ln_rt  \\\n",
       "0           1           1  short      ...        6.507278        0   6.111284   \n",
       "1           1           0   long      ...        6.617403        0   6.111284   \n",
       "2           0           0  short      ...        6.785588        0   6.111284   \n",
       "3           1           1   long      ...        6.522093        0   6.111284   \n",
       "4           0           0  short      ...        6.767343        0   6.111284   \n",
       "\n",
       "     ln_std  outlier_sub RB_adjst_all_total  dis_adjst_all_total  \\\n",
       "0  0.277035            0          -0.210782             0.670529   \n",
       "1  0.277035            0          -0.210782             0.670529   \n",
       "2  0.277035            0          -0.210782             0.670529   \n",
       "3  0.277035            0          -0.210782             0.670529   \n",
       "4  0.277035            0          -0.210782             0.670529   \n",
       "\n",
       "  RB_adjst_all_block dis_adjst_all_block RB_b2_minus_b1  \n",
       "0           0.068238            0.767208      -0.535316  \n",
       "1           0.068238            0.767208      -0.535316  \n",
       "2           0.068238            0.767208      -0.535316  \n",
       "3           0.068238            0.767208      -0.535316  \n",
       "4           0.068238            0.767208      -0.535316  \n",
       "\n",
       "[5 rows x 34 columns]"
      ]
     },
     "execution_count": 352,
     "metadata": {},
     "output_type": "execute_result"
    }
   ],
   "source": [
    "data.head()"
   ]
  },
  {
   "cell_type": "markdown",
   "metadata": {},
   "source": [
    "## Session 2\n"
   ]
  },
  {
   "cell_type": "code",
   "execution_count": 392,
   "metadata": {
    "collapsed": true
   },
   "outputs": [],
   "source": [
    "# adding rich and lean columns, blocks\n",
    "out = pd.read_csv(path2data + 'trial_session2.csv')\n",
    "out['subject'] = out.subjectID\n",
    "data = out.reset_index()\n",
    "del data['Unnamed: 0']\n",
    "\n",
    "data.bias = data.bias.apply(lambda x: x.strip(' '))\n",
    "data.trial = data.trial.apply(lambda x: int(x))\n",
    "data['rl_stim'] = ''\n",
    "data.loc[data['length'] == data['bias'], 'rl_stim'] = 'rich_stim'\n",
    "data.loc[data['length'] != data['bias'], 'rl_stim'] = 'lean_stim'\n",
    "\n",
    "data['rich_key'] = ''\n",
    "data.loc[data['bias'] == 'short', 'rich_key'] = data['short_key']\n",
    "data.loc[data['bias'] == 'long', 'rich_key'] = data['long_key']\n",
    "data.rich_key = data.rich_key.apply(lambda x: x.strip(' '))\n",
    "\n",
    "data['rl_resp'] = ''\n",
    "data.loc[data['key_press'] == data['rich_key'], 'rl_resp'] = 'rich_resp'\n",
    "data.loc[data['key_press'] != data['rich_key'], 'rl_resp'] = 'lean_resp'\n",
    "\n",
    "data['block'] = 0\n",
    "data.loc[data.trial <= 200, 'block'] = 2\n",
    "data.loc[data.trial <= 100, 'block'] = 1"
   ]
  },
  {
   "cell_type": "markdown",
   "metadata": {},
   "source": [
    "#### Quality control (trials):\n",
    "\"PRT trials were considered outliers and excluded from analysis if the raw RT was less than 150 ms or greater than 2500 ms, or if the log transformed RT was greater than 3 S.D.s from the participant’s mean.\""
   ]
  },
  {
   "cell_type": "code",
   "execution_count": 393,
   "metadata": {
    "collapsed": true
   },
   "outputs": [],
   "source": [
    "# Mark trials as outliers if 150 > time > 2500\n",
    "\n",
    "data.rt = data.rt.apply(lambda x: int(x))\n",
    "data['ln_rt'] = data.rt.apply(np.log)\n",
    "data['outlier'] = 0\n",
    "data.loc[(data['rt'] > 2500) | (data['rt'] < 150), 'outlier'] = 1\n",
    "\n",
    "cleandata = data[data.outlier == 0]\n",
    "data['mean_ln_rt'] = 0 # make columns of interest\n",
    "data['ln_std'] = 0\n",
    "for sub in data.subjectID.unique():\n",
    "    mean = cleandata[cleandata.subjectID == sub].ln_rt.mean()\n",
    "    std = cleandata[cleandata.subjectID == sub].ln_rt.std()\n",
    "    data.loc[data.subjectID == sub, 'mean_ln_rt'] = mean\n",
    "    data.loc[data.subjectID == sub, 'ln_std'] = std\n",
    "    \n",
    "# Mark trials as outliers if the ln rt is > 3sd from the mean\n",
    "\n",
    "data.loc[(data.ln_rt > (3*data.ln_std + data.mean_ln_rt)), 'outlier'] = 1"
   ]
  },
  {
   "cell_type": "markdown",
   "metadata": {},
   "source": [
    "#### Quality control (subjects):\n",
    "\"Additionally, participants with more than 20 outlier trials in each block, less than 24 rich or 7 lean rewards in each block, less than a 2.5 rich-to-lean reward ratio in either block, or accuracy less than 0.4 for rich or lean trials in either block were excluded from analysis.\""
   ]
  },
  {
   "cell_type": "code",
   "execution_count": 394,
   "metadata": {
    "collapsed": false
   },
   "outputs": [
    {
     "name": "stdout",
     "output_type": "stream",
     "text": [
      "31\n",
      "Subject DTC031 was excluded for having more than 20 outlier trials\n",
      "29\n",
      "Subject DTC031 was excluded for having more than 20 outlier trials\n",
      "Subject DTC038 was excluded for having too few rich rewarded trials\n",
      "Subject DTC039 was excluded for low accuracy\n",
      "Subject DTD531 was excluded for having too few rich rewarded trials\n",
      "Subject DTD537 was excluded for low accuracy\n",
      "26\n",
      "Subject DTD551 was excluded for having more than 20 outlier trials\n"
     ]
    }
   ],
   "source": [
    "data.did_reward = data.did_reward.apply(lambda x: int(x))\n",
    "data.correct = data.correct.apply(lambda x: int(x))\n",
    "data['outlier_sub'] = 0\n",
    "for subject in data.subjectID.unique():\n",
    "    for block in data.block.unique():\n",
    "        \n",
    "        noutliers = data[(data.subject == subject) & (data.block == block)].outlier.sum()\n",
    "        \n",
    "        nrichrew = data[(data.subject == subject) & (data.rl_stim == 'rich_stim') & (data.block == block)].did_reward.sum()\n",
    "        nleanrew = data[(data.subject == subject) & (data.rl_stim == 'lean_stim') & (data.block == block)].did_reward.sum()\n",
    "        ratio = nrichrew/nleanrew\n",
    "        rhaccuracy = data[(data.subject == subject) & (data.rl_stim == 'rich_stim') & (data.block == block)].correct.sum()\n",
    "        rhcount = data[(data.subject == subject) & (data.rl_stim == 'rich_stim') & (data.block == block)].correct.count()\n",
    "        lnaccuracy = data[(data.subject == subject) & (data.rl_stim == 'lean_stim') & (data.block == block)].correct.sum()\n",
    "        lncount = data[(data.subject == subject) & (data.rl_stim == 'lean_stim') & (data.block == block)].correct.count()\n",
    "        if noutliers > 20:\n",
    "            print(noutliers)\n",
    "            print ('Subject ' + str(subject) + ' was excluded for having more than 20 outlier trials')\n",
    "            data.loc[data.subject == subject, 'outlier_sub'] = 1\n",
    "        elif nrichrew < 24:\n",
    "            data.loc[data.subject == subject, 'outlier_sub'] = 1 # mark participants as outliers if they have \n",
    "                                                                 # less than 24 rewarded rich trials\n",
    "            print('Subject ' + str(subject) + ' was excluded for having too few rich rewarded trials')\n",
    "        elif nleanrew < 7:\n",
    "            data.loc[data.subject == subject, 'outlier_sub'] = 1 # mark participants as outliers if they have \n",
    "                                                                 # less than 7 rewarded lean trials\n",
    "            print('Subject ' + str(subject) + ' was excluded for having too few lean rewarded trials')\n",
    "        elif rhaccuracy < (.4*rhcount) or lnaccuracy < (.4*lncount):\n",
    "            data.loc[data.subject == subject, 'outlier_sub'] = 1 # mark participants as outliers if they have \n",
    "                                                                 # less than 7 rewarded lean trials\n",
    "            print('Subject ' + str(subject) + ' was excluded for low accuracy')\n",
    "        "
   ]
  },
  {
   "cell_type": "code",
   "execution_count": 395,
   "metadata": {
    "collapsed": false
   },
   "outputs": [
    {
     "data": {
      "text/plain": [
       "53"
      ]
     },
     "execution_count": 395,
     "metadata": {},
     "output_type": "execute_result"
    }
   ],
   "source": [
    "# take only the clean data\n",
    "data = data[data.outlier == 0]\n",
    "data = data[data.outlier_sub == 0]\n",
    "data.subjectID.nunique() "
   ]
  },
  {
   "cell_type": "code",
   "execution_count": 399,
   "metadata": {
    "collapsed": true
   },
   "outputs": [],
   "source": [
    "for subject in data.subject.unique():\n",
    "    rb, disc = calc_rb(subject, data)\n",
    "    data.loc[data.subject == subject, 'RB_adjst_all_total'] = rb\n",
    "    data.loc[data.subject == subject, 'dis_adjst_all_total'] = disc\n",
    "    for block in data.block.unique():\n",
    "        rb, disc = calc_rb(subject, data[data.block == block])\n",
    "        data.loc[(data.subject == subject) & (data.block == block), 'RB_adjst_all_block'] = rb\n",
    "        data.loc[(data.subject == subject) & (data.block == block), 'dis_adjst_all_block'] = disc  \n",
    "for subject in data.subject.unique():\n",
    "    block1_rb = data[(data.subject == subject) & (data.block == 1)].RB_adjst_all_block.mean()\n",
    "    block2_rb = data[(data.subject == subject) & (data.block == 2)].RB_adjst_all_block.mean()\n",
    "    b2_minus_b1 = block2_rb - block1_rb\n",
    "    data.loc[data.subject == subject, 'RB_b2_minus_b1'] = b2_minus_b1"
   ]
  },
  {
   "cell_type": "code",
   "execution_count": 400,
   "metadata": {
    "collapsed": true
   },
   "outputs": [],
   "source": [
    "data.to_csv('/Users/victorialawlor/Work/Expts/KIDPRT/Data/session2_trial_clean.csv')"
   ]
  },
  {
   "cell_type": "markdown",
   "metadata": {},
   "source": [
    "### Self Report"
   ]
  },
  {
   "cell_type": "code",
   "execution_count": 517,
   "metadata": {
    "collapsed": false
   },
   "outputs": [],
   "source": [
    "self_rep = pd.read_csv(path2data + 'self_report.csv')"
   ]
  },
  {
   "cell_type": "code",
   "execution_count": null,
   "metadata": {
    "collapsed": true
   },
   "outputs": [],
   "source": [
    "self_rep[bdi_1] = "
   ]
  },
  {
   "cell_type": "markdown",
   "metadata": {},
   "source": [
    "# Baseline"
   ]
  },
  {
   "cell_type": "markdown",
   "metadata": {},
   "source": [
    "### Participant Characteristics"
   ]
  },
  {
   "cell_type": "markdown",
   "metadata": {},
   "source": [
    "Need this file."
   ]
  },
  {
   "cell_type": "markdown",
   "metadata": {},
   "source": [
    "### Standard Analysis"
   ]
  },
  {
   "cell_type": "markdown",
   "metadata": {},
   "source": [
    "Both groups developed a response bias"
   ]
  },
  {
   "cell_type": "code",
   "execution_count": 512,
   "metadata": {
    "collapsed": true
   },
   "outputs": [],
   "source": [
    "data = pd.read_csv('/Users/victorialawlor/Work/Expts/KIDPRT/Data/session1_trial_clean.csv')"
   ]
  },
  {
   "cell_type": "code",
   "execution_count": 513,
   "metadata": {
    "collapsed": false
   },
   "outputs": [
    {
     "data": {
      "text/plain": [
       "group\n",
       "CTL    38\n",
       "MDD    33\n",
       "Name: subjectID, dtype: int64"
      ]
     },
     "execution_count": 513,
     "metadata": {},
     "output_type": "execute_result"
    }
   ],
   "source": [
    "data.groupby('group').subjectID.nunique()"
   ]
  },
  {
   "cell_type": "code",
   "execution_count": 353,
   "metadata": {
    "collapsed": false
   },
   "outputs": [
    {
     "data": {
      "text/plain": [
       "\n",
       "\tOne Sample t-test\n",
       "\n",
       "data:  data_mdd$RB_adjst_all_block\n",
       "t = 30.061, df = 6468, p-value < 2.2e-16\n",
       "alternative hypothesis: true mean is greater than 0\n",
       "95 percent confidence interval:\n",
       " 0.07132796        Inf\n",
       "sample estimates:\n",
       " mean of x \n",
       "0.07545737 \n",
       "\n"
      ]
     },
     "metadata": {},
     "output_type": "display_data"
    }
   ],
   "source": [
    "data_mdd = data.loc[data.group == 'MDD']\n",
    "%Rpush data_mdd\n",
    "%R rb.test <- t.test(data_mdd$RB_adjst_all_block, mu=0, alternative=\"greater\")\n",
    "%R print (rb.test)"
   ]
  },
  {
   "cell_type": "code",
   "execution_count": 354,
   "metadata": {
    "collapsed": false
   },
   "outputs": [
    {
     "data": {
      "text/plain": [
       "\n",
       "\tOne Sample t-test\n",
       "\n",
       "data:  data_ctl$RB_adjst_all_block\n",
       "t = 26.963, df = 7505, p-value < 2.2e-16\n",
       "alternative hypothesis: true mean is greater than 0\n",
       "95 percent confidence interval:\n",
       " 0.07431404        Inf\n",
       "sample estimates:\n",
       " mean of x \n",
       "0.07914262 \n",
       "\n"
      ]
     },
     "metadata": {},
     "output_type": "display_data"
    }
   ],
   "source": [
    "data_ctl = data.loc[data.group == 'CTL']\n",
    "%Rpush data_ctl\n",
    "%R rb.test <- t.test(data_ctl$RB_adjst_all_block, mu=0, alternative=\"greater\")\n",
    "%R print (rb.test)"
   ]
  },
  {
   "cell_type": "markdown",
   "metadata": {},
   "source": [
    "No significant effects of group or block on RB"
   ]
  },
  {
   "cell_type": "code",
   "execution_count": 359,
   "metadata": {
    "collapsed": false
   },
   "outputs": [
    {
     "data": {
      "text/plain": [
       "Anova Table (Type 3 tests)\n",
       "\n",
       "Response: RB_adjst_all_block\n",
       "       Effect    df  MSE    F    pes p.value\n",
       "1       group 1, 69 0.09 0.00 <.0001     .95\n",
       "2       block 1, 69 0.02 0.00 <.0001     .95\n",
       "3 group:block 1, 69 0.02 2.30    .03     .13\n",
       "\n",
       "Sphericity correction method: GG \n"
      ]
     },
     "metadata": {},
     "output_type": "display_data"
    },
    {
     "data": {
      "image/png": "[encoded data removed]",
      "text/plain": [
       "<matplotlib.figure.Figure at 0x12e5f2ac8>"
      ]
     },
     "metadata": {},
     "output_type": "display_data"
    }
   ],
   "source": [
    "total_rb_plot = sns.barplot(y='RB_adjst_all_total', x = 'block', hue = 'group', data = data, ci=68)\n",
    "\n",
    "%Rpush data\n",
    "%R rb.aov <- aov_ez(\"subjectID\", dv = \"RB_adjst_all_block\", \\\n",
    "                                 data = data, within = \"block\", \\\n",
    "                                 between = \"group\",anova_table=list(correction=\"GG\", es = \"pes\"))\n",
    "%R print(rb.aov)"
   ]
  },
  {
   "cell_type": "markdown",
   "metadata": {},
   "source": [
    "Nothing with block 2 - block1 "
   ]
  },
  {
   "cell_type": "code",
   "execution_count": 363,
   "metadata": {
    "collapsed": false
   },
   "outputs": [
    {
     "data": {
      "text/plain": [
       "Anova Table (Type 3 tests)\n",
       "\n",
       "Response: RB_b2_minus_b1\n",
       "  Effect    df  MSE    F pes p.value\n",
       "1  group 1, 69 0.05 2.30 .03     .13\n"
      ]
     },
     "metadata": {},
     "output_type": "display_data"
    }
   ],
   "source": [
    "%Rpush data\n",
    "%R rb.aov <- aov_ez(\"subjectID\", dv = \"RB_b2_minus_b1\", \\\n",
    "                                 data = data, between = \"group\",anova_table=list(correction=\"GG\", es = \"pes\"))\n",
    "%R print(rb.aov)"
   ]
  },
  {
   "cell_type": "markdown",
   "metadata": {},
   "source": [
    "Worse discriminability in the second block, no effect of group"
   ]
  },
  {
   "cell_type": "code",
   "execution_count": 365,
   "metadata": {
    "collapsed": false
   },
   "outputs": [
    {
     "data": {
      "text/plain": [
       "Anova Table (Type 3 tests)\n",
       "\n",
       "Response: dis_adjst_all_block\n",
       "       Effect    df  MSE       F  pes p.value\n",
       "1       group 1, 69 0.08    0.16 .002     .69\n",
       "2       block 1, 69 0.02 9.27 **  .12    .003\n",
       "3 group:block 1, 69 0.02    0.69 .010     .41\n",
       "\n",
       "Sphericity correction method: GG \n"
      ]
     },
     "metadata": {},
     "output_type": "display_data"
    },
    {
     "data": {
      "image/png": "[encoded data removed]",
      "text/plain": [
       "<matplotlib.figure.Figure at 0x12e245d68>"
      ]
     },
     "metadata": {},
     "output_type": "display_data"
    }
   ],
   "source": [
    "plot = sns.barplot(y='dis_adjst_all_block', x = 'block', \n",
    "                                   data = data, hue = 'group', ci=68, units= 'subjectID')\n",
    "%Rpush data\n",
    "%R discriminability.aov <- aov_ez(\"subjectID\", dv = \"dis_adjst_all_block\", \\\n",
    "                                 data = data, within = 'block',\\\n",
    "                                 between = \"group\",anova_table=list(correction=\"GG\", es = \"pes\"))\n",
    "%R print (discriminability.aov)"
   ]
  },
  {
   "cell_type": "markdown",
   "metadata": {},
   "source": [
    "Faster RTs in the second block, no effect of group."
   ]
  },
  {
   "cell_type": "code",
   "execution_count": 366,
   "metadata": {
    "collapsed": false
   },
   "outputs": [
    {
     "data": {
      "text/plain": [
       "Anova Table (Type 3 tests)\n",
       "\n",
       "Response: ln_rt\n",
       "       Effect    df  MSE      F  pes p.value\n",
       "1       group 1, 69 0.08   1.52  .02     .22\n",
       "2       block 1, 69 0.01 5.82 *  .08     .02\n",
       "3 group:block 1, 69 0.01   0.35 .005     .55\n",
       "\n",
       "Sphericity correction method: GG \n"
      ]
     },
     "metadata": {},
     "output_type": "display_data"
    },
    {
     "data": {
      "image/png": "[encoded data removed]",
      "text/plain": [
       "<matplotlib.figure.Figure at 0x133096400>"
      ]
     },
     "metadata": {},
     "output_type": "display_data"
    }
   ],
   "source": [
    "rt_plot = sns.barplot(y='rt', x = 'block', hue = 'group', data=data,  \\\n",
    "                      ci=68, units = 'subjectID')\n",
    "\n",
    "%Rpush data\n",
    "%R rt.aov <- aov_ez(\"subjectID\", dv = \"ln_rt\", \\\n",
    "                                 data = data, within = 'block',\\\n",
    "                                 between = 'group',anova_table=list(correction=\"GG\", es = \"pes\"))\n",
    "%R print (rt.aov)"
   ]
  },
  {
   "cell_type": "markdown",
   "metadata": {},
   "source": [
    "Reward recieved: no effect of group"
   ]
  },
  {
   "cell_type": "markdown",
   "metadata": {},
   "source": [
    "Lunch break to do:  \n",
    "Create a reward count variable  \n"
   ]
  },
  {
   "cell_type": "code",
   "execution_count": 374,
   "metadata": {
    "collapsed": false
   },
   "outputs": [
    {
     "data": {
      "image/png": "[encoded data removed]",
      "text/plain": [
       "<matplotlib.figure.Figure at 0x131a47780>"
      ]
     },
     "metadata": {},
     "output_type": "display_data"
    }
   ],
   "source": [
    "rw_ct = sns.barplot(y='did_reward', x = 'group', \n",
    "                                   data = data, ci=68, units = 'subjectID')\n",
    "#%Rpush embarc_standard_forR\n",
    "#%R embarc_rb_b1.aov <- aov_ez(\"ProjectSpecificID\", dv = \"rwdct1_Total\", data = embarc_standard_forR, \\\n",
    "                         #     between = c(\"feasibility\",\"site\"),\\\n",
    "                          #    anova_table=list(correction=\"GG\", es = \"pes\"))\n",
    "#%R print (embarc_rb_b1.aov)"
   ]
  },
  {
   "cell_type": "code",
   "execution_count": 373,
   "metadata": {
    "collapsed": false
   },
   "outputs": [
    {
     "data": {
      "text/plain": [
       "group\n",
       "CTL    0.396616\n",
       "MDD    0.397125\n",
       "Name: did_reward, dtype: float64"
      ]
     },
     "execution_count": 373,
     "metadata": {},
     "output_type": "execute_result"
    }
   ],
   "source": [
    "data.groupby(['group']).did_reward.mean()"
   ]
  },
  {
   "cell_type": "markdown",
   "metadata": {},
   "source": [
    "### HDDM"
   ]
  },
  {
   "cell_type": "code",
   "execution_count": 376,
   "metadata": {
    "collapsed": false
   },
   "outputs": [],
   "source": [
    "# getting the data HDDM compatible\n",
    "\n",
    "data.loc[data.rl_resp == 'rich_resp', 'response'] = 1\n",
    "data.loc[data.rl_resp == 'lean_resp', 'response'] = 0\n",
    "data.loc[data.rl_stim == 'rich_stim', 'stim'] = 1\n",
    "data.loc[data.rl_stim == 'lean_stim', 'stim'] = 0\n",
    "data.rename(columns={'subjectID': 'subj_idx'}, inplace=True)\n",
    "data['rt'] = data.rt/1000\n",
    "data.to_csv(path2data + 'session1_hddm_ready.csv')"
   ]
  },
  {
   "cell_type": "code",
   "execution_count": 377,
   "metadata": {
    "collapsed": true
   },
   "outputs": [],
   "source": [
    "data = hddm.load_csv(path2data + 'session1_hddm_ready.csv')"
   ]
  },
  {
   "cell_type": "code",
   "execution_count": 385,
   "metadata": {
    "collapsed": false
   },
   "outputs": [
    {
     "name": "stdout",
     "output_type": "stream",
     "text": [
      " [-----------------100%-----------------] 10001 of 10000 complete in 3171.8 sec"
     ]
    },
    {
     "data": {
      "text/plain": [
       "<pymc.MCMC.MCMC at 0x13306e668>"
      ]
     },
     "execution_count": 385,
     "metadata": {},
     "output_type": "execute_result"
    }
   ],
   "source": [
    "session1_model = hddm.HDDMStimCoding(data, include='z', stim_col='stim', split_param='v',depends_on={'v': 'group', 'a': 'group', 't': 'group', 'z': 'group'})\n",
    "session1_model.find_starting_values()\n",
    "session1_model.sample(10000, burn=1000)"
   ]
  },
  {
   "cell_type": "code",
   "execution_count": 390,
   "metadata": {
    "collapsed": false
   },
   "outputs": [
    {
     "name": "stdout",
     "output_type": "stream",
     "text": [
      "Plotting a(CTL)\n",
      "Plotting a(MDD)\n",
      "Plotting a_std\n",
      "Plotting v(CTL)\n",
      "Plotting v(MDD)\n",
      "Plotting t(CTL)\n",
      "Plotting t(MDD)\n"
     ]
    },
    {
     "data": {
      "image/png": "[encoded data removed]",
      "text/plain": [
       "<matplotlib.figure.Figure at 0x12ff5c198>"
      ]
     },
     "metadata": {},
     "output_type": "display_data"
    },
    {
     "data": {
      "image/png": "[encoded data removed]",
      "text/plain": [
       "<matplotlib.figure.Figure at 0x12f770cc0>"
      ]
     },
     "metadata": {},
     "output_type": "display_data"
    },
    {
     "data": {
      "image/png": "[encoded data removed]",
      "text/plain": [
       "<matplotlib.figure.Figure at 0x12e37abe0>"
      ]
     },
     "metadata": {},
     "output_type": "display_data"
    },
    {
     "data": {
      "image/png": "[encoded data removed]",
      "text/plain": [
       "<matplotlib.figure.Figure at 0x13093fe10>"
      ]
     },
     "metadata": {},
     "output_type": "display_data"
    },
    {
     "data": {
      "image/png": "[encoded data removed]",
      "text/plain": [
       "<matplotlib.figure.Figure at 0x1367a9400>"
      ]
     },
     "metadata": {},
     "output_type": "display_data"
    },
    {
     "data": {
      "image/png": "[encoded data removed]",
      "text/plain": [
       "<matplotlib.figure.Figure at 0x12f731e48>"
      ]
     },
     "metadata": {},
     "output_type": "display_data"
    },
    {
     "data": {
      "image/png": "[encoded data removed]",
      "text/plain": [
       "<matplotlib.figure.Figure at 0x1305216d8>"
      ]
     },
     "metadata": {},
     "output_type": "display_data"
    }
   ],
   "source": [
    "session1_model.plot_posteriors(['a', 't', 'v', 'a_std'])"
   ]
  },
  {
   "cell_type": "code",
   "execution_count": 386,
   "metadata": {
    "collapsed": false
   },
   "outputs": [
    {
     "name": "stdout",
     "output_type": "stream",
     "text": [
      "P_a(MDD > CON) =  0.873222222222\n",
      "P_a(CON > MDD) =  0.126777777778\n"
     ]
    },
    {
     "data": {
      "image/png": "[encoded data removed]",
      "text/plain": [
       "<matplotlib.figure.Figure at 0x12ff5ca90>"
      ]
     },
     "metadata": {},
     "output_type": "display_data"
    }
   ],
   "source": [
    "a_MDD, a_CON = session1_model.nodes_db.node[['a(MDD)','a(CTL)']]\n",
    "hddm.analyze.plot_posterior_nodes([a_MDD, a_CON])\n",
    "plt.xlabel('a')\n",
    "plt.ylabel('Posterior probability')\n",
    "plt.title('Posterior of threshold group means')\n",
    "\n",
    "print (\"P_a(MDD > CON) = \", (a_MDD.trace() > a_CON.trace()).mean())\n",
    "print (\"P_a(CON > MDD) = \", (a_CON.trace() > a_MDD.trace()).mean())"
   ]
  },
  {
   "cell_type": "code",
   "execution_count": 387,
   "metadata": {
    "collapsed": false
   },
   "outputs": [
    {
     "name": "stdout",
     "output_type": "stream",
     "text": [
      "P_a(MDD > CON) =  0.161222222222\n",
      "P_a(CON > MDD) =  0.838777777778\n"
     ]
    },
    {
     "data": {
      "image/png": "[encoded data removed]",
      "text/plain": [
       "<matplotlib.figure.Figure at 0x130339f28>"
      ]
     },
     "metadata": {},
     "output_type": "display_data"
    }
   ],
   "source": [
    "v_MDD, v_CON = session1_model.nodes_db.node[['v(MDD)','v(CTL)']]\n",
    "hddm.analyze.plot_posterior_nodes([v_MDD, v_CON])\n",
    "plt.xlabel('v')\n",
    "plt.ylabel('Posterior probability')\n",
    "plt.title('Posterior of drift group means')\n",
    "\n",
    "print (\"P_a(MDD > CON) = \", (v_MDD.trace() > v_CON.trace()).mean())\n",
    "print (\"P_a(CON > MDD) = \", (v_CON.trace() > v_MDD.trace()).mean())"
   ]
  },
  {
   "cell_type": "code",
   "execution_count": 388,
   "metadata": {
    "collapsed": false
   },
   "outputs": [
    {
     "name": "stdout",
     "output_type": "stream",
     "text": [
      "P_a(MDD > CON) =  0.689\n",
      "P_a(CON > MDD) =  0.311\n"
     ]
    },
    {
     "data": {
      "image/png": "[encoded data removed]",
      "text/plain": [
       "<matplotlib.figure.Figure at 0x130860f98>"
      ]
     },
     "metadata": {},
     "output_type": "display_data"
    }
   ],
   "source": [
    "z_MDD, z_CON = session1_model.nodes_db.node[['z(MDD)','z(CTL)']]\n",
    "hddm.analyze.plot_posterior_nodes([z_MDD, z_CON])\n",
    "plt.xlabel('z')\n",
    "plt.ylabel('Posterior probability')\n",
    "plt.title('Posterior of bias group means')\n",
    "\n",
    "print (\"P_a(MDD > CON) = \", (z_MDD.trace() > z_CON.trace()).mean())\n",
    "print (\"P_a(CON > MDD) = \", (z_CON.trace() > z_MDD.trace()).mean())"
   ]
  },
  {
   "cell_type": "code",
   "execution_count": 389,
   "metadata": {
    "collapsed": false
   },
   "outputs": [
    {
     "name": "stdout",
     "output_type": "stream",
     "text": [
      "P_a(MDD > CON) =  0.401555555556\n",
      "P_a(CON > MDD) =  0.598444444444\n"
     ]
    },
    {
     "data": {
      "image/png": "[encoded data removed]",
      "text/plain": [
       "<matplotlib.figure.Figure at 0x130dc5668>"
      ]
     },
     "metadata": {},
     "output_type": "display_data"
    }
   ],
   "source": [
    "t_MDD, t_CON = session1_model.nodes_db.node[['t(MDD)','t(CTL)']]\n",
    "hddm.analyze.plot_posterior_nodes([t_MDD, t_CON])\n",
    "plt.xlabel('t')\n",
    "plt.ylabel('Posterior probability')\n",
    "plt.title('Posterior of non decision time group means')\n",
    "\n",
    "print (\"P_a(MDD > CON) = \", (t_MDD.trace() > t_CON.trace()).mean())\n",
    "print (\"P_a(CON > MDD) = \", (t_CON.trace() > t_MDD.trace()).mean())"
   ]
  },
  {
   "cell_type": "markdown",
   "metadata": {},
   "source": [
    "Get subject means"
   ]
  },
  {
   "cell_type": "code",
   "execution_count": 460,
   "metadata": {
    "collapsed": false
   },
   "outputs": [
    {
     "data": {
      "text/html": [
       "<div>\n",
       "<table border=\"1\" class=\"dataframe\">\n",
       "  <thead>\n",
       "    <tr style=\"text-align: right;\">\n",
       "      <th></th>\n",
       "      <th>to_extract</th>\n",
       "      <th>mean</th>\n",
       "      <th>std</th>\n",
       "      <th>2.5q</th>\n",
       "      <th>25q</th>\n",
       "      <th>50q</th>\n",
       "      <th>75q</th>\n",
       "      <th>97.5q</th>\n",
       "      <th>mc err</th>\n",
       "    </tr>\n",
       "  </thead>\n",
       "  <tbody>\n",
       "    <tr>\n",
       "      <th>0</th>\n",
       "      <td>a(CTL)</td>\n",
       "      <td>1.164097</td>\n",
       "      <td>0.030618</td>\n",
       "      <td>1.104655</td>\n",
       "      <td>1.143566</td>\n",
       "      <td>1.163722</td>\n",
       "      <td>1.184249</td>\n",
       "      <td>1.225103</td>\n",
       "      <td>0.000351</td>\n",
       "    </tr>\n",
       "    <tr>\n",
       "      <th>1</th>\n",
       "      <td>a(MDD)</td>\n",
       "      <td>1.214888</td>\n",
       "      <td>0.033088</td>\n",
       "      <td>1.151180</td>\n",
       "      <td>1.192542</td>\n",
       "      <td>1.214828</td>\n",
       "      <td>1.236638</td>\n",
       "      <td>1.281591</td>\n",
       "      <td>0.000377</td>\n",
       "    </tr>\n",
       "    <tr>\n",
       "      <th>2</th>\n",
       "      <td>a_std</td>\n",
       "      <td>0.185441</td>\n",
       "      <td>0.017714</td>\n",
       "      <td>0.153918</td>\n",
       "      <td>0.173259</td>\n",
       "      <td>0.184195</td>\n",
       "      <td>0.196270</td>\n",
       "      <td>0.224496</td>\n",
       "      <td>0.000257</td>\n",
       "    </tr>\n",
       "    <tr>\n",
       "      <th>3</th>\n",
       "      <td>a_subj(CTL).DTC020</td>\n",
       "      <td>1.299195</td>\n",
       "      <td>0.050385</td>\n",
       "      <td>1.203835</td>\n",
       "      <td>1.263610</td>\n",
       "      <td>1.298089</td>\n",
       "      <td>1.333288</td>\n",
       "      <td>1.400292</td>\n",
       "      <td>0.000642</td>\n",
       "    </tr>\n",
       "    <tr>\n",
       "      <th>4</th>\n",
       "      <td>a_subj(CTL).DTC021</td>\n",
       "      <td>1.259265</td>\n",
       "      <td>0.047173</td>\n",
       "      <td>1.169054</td>\n",
       "      <td>1.227291</td>\n",
       "      <td>1.257858</td>\n",
       "      <td>1.289939</td>\n",
       "      <td>1.355685</td>\n",
       "      <td>0.000671</td>\n",
       "    </tr>\n",
       "  </tbody>\n",
       "</table>\n",
       "</div>"
      ],
      "text/plain": [
       "           to_extract      mean       std      2.5q       25q       50q  \\\n",
       "0              a(CTL)  1.164097  0.030618  1.104655  1.143566  1.163722   \n",
       "1              a(MDD)  1.214888  0.033088  1.151180  1.192542  1.214828   \n",
       "2               a_std  0.185441  0.017714  0.153918  0.173259  0.184195   \n",
       "3  a_subj(CTL).DTC020  1.299195  0.050385  1.203835  1.263610  1.298089   \n",
       "4  a_subj(CTL).DTC021  1.259265  0.047173  1.169054  1.227291  1.257858   \n",
       "\n",
       "        75q     97.5q    mc err  \n",
       "0  1.184249  1.225103  0.000351  \n",
       "1  1.236638  1.281591  0.000377  \n",
       "2  0.196270  0.224496  0.000257  \n",
       "3  1.333288  1.400292  0.000642  \n",
       "4  1.289939  1.355685  0.000671  "
      ]
     },
     "execution_count": 460,
     "metadata": {},
     "output_type": "execute_result"
    }
   ],
   "source": [
    "stats = session1_model.gen_stats()\n",
    "stats.to_csv(path2data + 'session1_modelstats.csv')\n",
    "stats = pd.read_csv(path2data + 'session1_modelstats.csv')\n",
    "stats.rename(columns={'Unnamed: 0': 'to_extract'}, inplace=True)\n",
    "stats.head(5)"
   ]
  },
  {
   "cell_type": "code",
   "execution_count": 461,
   "metadata": {
    "collapsed": true
   },
   "outputs": [],
   "source": [
    "sess1 = pd.read_csv('/Users/victorialawlor/Work/Expts/KIDPRT/Data/session1_trial_clean.csv')"
   ]
  },
  {
   "cell_type": "code",
   "execution_count": 462,
   "metadata": {
    "collapsed": true
   },
   "outputs": [],
   "source": [
    "# Need to change length here\n",
    "\n",
    "def get_param(item):\n",
    "    '''Returns the parameter from the genstats() data'''\n",
    "    if len(item) == 18:\n",
    "        param = item[0]\n",
    "    else:\n",
    "        param = np.nan\n",
    "    return(param)\n",
    "def get_id(item):\n",
    "    '''Returns the id info from the genstats() data'''\n",
    "    if len(item) == 18:\n",
    "        sub_id = item[12:18]\n",
    "    else:\n",
    "        sub_id = np.nan\n",
    "    return(sub_id)"
   ]
  },
  {
   "cell_type": "code",
   "execution_count": 463,
   "metadata": {
    "collapsed": false,
    "scrolled": false
   },
   "outputs": [
    {
     "data": {
      "text/html": [
       "<div>\n",
       "<table border=\"1\" class=\"dataframe\">\n",
       "  <thead>\n",
       "    <tr style=\"text-align: right;\">\n",
       "      <th></th>\n",
       "      <th>to_extract</th>\n",
       "      <th>mean</th>\n",
       "      <th>param</th>\n",
       "      <th>subj_idx</th>\n",
       "      <th>Unnamed: 0</th>\n",
       "      <th>Unnamed: 0.1</th>\n",
       "      <th>index</th>\n",
       "      <th>rt</th>\n",
       "      <th>little_due</th>\n",
       "      <th>big_due</th>\n",
       "      <th>...</th>\n",
       "      <th>bias</th>\n",
       "      <th>rl_stim</th>\n",
       "      <th>rich_key</th>\n",
       "      <th>rl_resp</th>\n",
       "      <th>block</th>\n",
       "      <th>ln_rt</th>\n",
       "      <th>outlier</th>\n",
       "      <th>mean_ln_rt</th>\n",
       "      <th>ln_std</th>\n",
       "      <th>outlier_sub</th>\n",
       "    </tr>\n",
       "  </thead>\n",
       "  <tbody>\n",
       "    <tr>\n",
       "      <th>0</th>\n",
       "      <td>a_subj(CTL).DTC020</td>\n",
       "      <td>1.299195</td>\n",
       "      <td>a</td>\n",
       "      <td>DTC020</td>\n",
       "      <td>0</td>\n",
       "      <td>0</td>\n",
       "      <td>0</td>\n",
       "      <td>670</td>\n",
       "      <td>0</td>\n",
       "      <td>0</td>\n",
       "      <td>...</td>\n",
       "      <td>long</td>\n",
       "      <td>lean_stim</td>\n",
       "      <td>c</td>\n",
       "      <td>lean_resp</td>\n",
       "      <td>1</td>\n",
       "      <td>6.507278</td>\n",
       "      <td>0</td>\n",
       "      <td>6.111284</td>\n",
       "      <td>0.277035</td>\n",
       "      <td>0</td>\n",
       "    </tr>\n",
       "    <tr>\n",
       "      <th>1</th>\n",
       "      <td>v_subj(CTL).DTC020</td>\n",
       "      <td>1.378730</td>\n",
       "      <td>v</td>\n",
       "      <td>DTC020</td>\n",
       "      <td>0</td>\n",
       "      <td>0</td>\n",
       "      <td>0</td>\n",
       "      <td>670</td>\n",
       "      <td>0</td>\n",
       "      <td>0</td>\n",
       "      <td>...</td>\n",
       "      <td>long</td>\n",
       "      <td>lean_stim</td>\n",
       "      <td>c</td>\n",
       "      <td>lean_resp</td>\n",
       "      <td>1</td>\n",
       "      <td>6.507278</td>\n",
       "      <td>0</td>\n",
       "      <td>6.111284</td>\n",
       "      <td>0.277035</td>\n",
       "      <td>0</td>\n",
       "    </tr>\n",
       "    <tr>\n",
       "      <th>2</th>\n",
       "      <td>t_subj(CTL).DTC020</td>\n",
       "      <td>0.170576</td>\n",
       "      <td>t</td>\n",
       "      <td>DTC020</td>\n",
       "      <td>0</td>\n",
       "      <td>0</td>\n",
       "      <td>0</td>\n",
       "      <td>670</td>\n",
       "      <td>0</td>\n",
       "      <td>0</td>\n",
       "      <td>...</td>\n",
       "      <td>long</td>\n",
       "      <td>lean_stim</td>\n",
       "      <td>c</td>\n",
       "      <td>lean_resp</td>\n",
       "      <td>1</td>\n",
       "      <td>6.507278</td>\n",
       "      <td>0</td>\n",
       "      <td>6.111284</td>\n",
       "      <td>0.277035</td>\n",
       "      <td>0</td>\n",
       "    </tr>\n",
       "    <tr>\n",
       "      <th>3</th>\n",
       "      <td>z_subj(CTL).DTC020</td>\n",
       "      <td>0.437384</td>\n",
       "      <td>z</td>\n",
       "      <td>DTC020</td>\n",
       "      <td>0</td>\n",
       "      <td>0</td>\n",
       "      <td>0</td>\n",
       "      <td>670</td>\n",
       "      <td>0</td>\n",
       "      <td>0</td>\n",
       "      <td>...</td>\n",
       "      <td>long</td>\n",
       "      <td>lean_stim</td>\n",
       "      <td>c</td>\n",
       "      <td>lean_resp</td>\n",
       "      <td>1</td>\n",
       "      <td>6.507278</td>\n",
       "      <td>0</td>\n",
       "      <td>6.111284</td>\n",
       "      <td>0.277035</td>\n",
       "      <td>0</td>\n",
       "    </tr>\n",
       "    <tr>\n",
       "      <th>4</th>\n",
       "      <td>a_subj(CTL).DTC021</td>\n",
       "      <td>1.259265</td>\n",
       "      <td>a</td>\n",
       "      <td>DTC021</td>\n",
       "      <td>196</td>\n",
       "      <td>200</td>\n",
       "      <td>200</td>\n",
       "      <td>1172</td>\n",
       "      <td>0</td>\n",
       "      <td>0</td>\n",
       "      <td>...</td>\n",
       "      <td>short</td>\n",
       "      <td>rich_stim</td>\n",
       "      <td>c</td>\n",
       "      <td>lean_resp</td>\n",
       "      <td>1</td>\n",
       "      <td>7.066467</td>\n",
       "      <td>0</td>\n",
       "      <td>6.225349</td>\n",
       "      <td>0.338779</td>\n",
       "      <td>0</td>\n",
       "    </tr>\n",
       "  </tbody>\n",
       "</table>\n",
       "<p>5 rows × 33 columns</p>\n",
       "</div>"
      ],
      "text/plain": [
       "           to_extract      mean param subj_idx  Unnamed: 0  Unnamed: 0.1  \\\n",
       "0  a_subj(CTL).DTC020  1.299195     a   DTC020           0             0   \n",
       "1  v_subj(CTL).DTC020  1.378730     v   DTC020           0             0   \n",
       "2  t_subj(CTL).DTC020  0.170576     t   DTC020           0             0   \n",
       "3  z_subj(CTL).DTC020  0.437384     z   DTC020           0             0   \n",
       "4  a_subj(CTL).DTC021  1.259265     a   DTC021         196           200   \n",
       "\n",
       "   index    rt  little_due  big_due     ...       bias    rl_stim  rich_key  \\\n",
       "0      0   670           0        0     ...       long  lean_stim         c   \n",
       "1      0   670           0        0     ...       long  lean_stim         c   \n",
       "2      0   670           0        0     ...       long  lean_stim         c   \n",
       "3      0   670           0        0     ...       long  lean_stim         c   \n",
       "4    200  1172           0        0     ...      short  rich_stim         c   \n",
       "\n",
       "     rl_resp block     ln_rt outlier mean_ln_rt    ln_std outlier_sub  \n",
       "0  lean_resp     1  6.507278       0   6.111284  0.277035           0  \n",
       "1  lean_resp     1  6.507278       0   6.111284  0.277035           0  \n",
       "2  lean_resp     1  6.507278       0   6.111284  0.277035           0  \n",
       "3  lean_resp     1  6.507278       0   6.111284  0.277035           0  \n",
       "4  lean_resp     1  7.066467       0   6.225349  0.338779           0  \n",
       "\n",
       "[5 rows x 33 columns]"
      ]
     },
     "execution_count": 463,
     "metadata": {},
     "output_type": "execute_result"
    }
   ],
   "source": [
    "# get column info and merge this with the behavioral data\n",
    "\n",
    "reward_stats = stats[['to_extract', 'mean']]\n",
    "reward_stats['param'] = reward_stats.to_extract.apply(get_param)\n",
    "reward_stats['subj_idx'] = reward_stats.to_extract.apply(get_id)\n",
    "sess1['subj_idx'] = sess1.subjectID.apply(lambda x: str(x))\n",
    "sess1_summary = sess1.drop_duplicates('subj_idx')\n",
    "reward_stats = pd.merge(reward_stats, sess1_summary, on='subj_idx')\n",
    "reward_stats.head()"
   ]
  },
  {
   "cell_type": "code",
   "execution_count": 464,
   "metadata": {
    "collapsed": false
   },
   "outputs": [
    {
     "data": {
      "text/html": [
       "<div>\n",
       "<table border=\"1\" class=\"dataframe\">\n",
       "  <thead>\n",
       "    <tr style=\"text-align: right;\">\n",
       "      <th></th>\n",
       "      <th>to_extract</th>\n",
       "      <th>mean_v</th>\n",
       "      <th>subj_idx</th>\n",
       "      <th>Unnamed: 0</th>\n",
       "      <th>Unnamed: 0.1</th>\n",
       "      <th>index</th>\n",
       "      <th>rt</th>\n",
       "      <th>little_due</th>\n",
       "      <th>big_due</th>\n",
       "      <th>trial</th>\n",
       "      <th>...</th>\n",
       "      <th>rich_key</th>\n",
       "      <th>rl_resp</th>\n",
       "      <th>block</th>\n",
       "      <th>ln_rt</th>\n",
       "      <th>outlier</th>\n",
       "      <th>mean_ln_rt</th>\n",
       "      <th>ln_std</th>\n",
       "      <th>outlier_sub</th>\n",
       "      <th>mean_a</th>\n",
       "      <th>mean_z</th>\n",
       "    </tr>\n",
       "  </thead>\n",
       "  <tbody>\n",
       "    <tr>\n",
       "      <th>0</th>\n",
       "      <td>v_subj(CTL).DTC020</td>\n",
       "      <td>1.378730</td>\n",
       "      <td>DTC020</td>\n",
       "      <td>0</td>\n",
       "      <td>0</td>\n",
       "      <td>0</td>\n",
       "      <td>670</td>\n",
       "      <td>0</td>\n",
       "      <td>0</td>\n",
       "      <td>1</td>\n",
       "      <td>...</td>\n",
       "      <td>c</td>\n",
       "      <td>lean_resp</td>\n",
       "      <td>1</td>\n",
       "      <td>6.507278</td>\n",
       "      <td>0</td>\n",
       "      <td>6.111284</td>\n",
       "      <td>0.277035</td>\n",
       "      <td>0</td>\n",
       "      <td>1.299195</td>\n",
       "      <td>0.437384</td>\n",
       "    </tr>\n",
       "    <tr>\n",
       "      <th>1</th>\n",
       "      <td>v_subj(CTL).DTC021</td>\n",
       "      <td>1.445843</td>\n",
       "      <td>DTC021</td>\n",
       "      <td>196</td>\n",
       "      <td>200</td>\n",
       "      <td>200</td>\n",
       "      <td>1172</td>\n",
       "      <td>0</td>\n",
       "      <td>0</td>\n",
       "      <td>1</td>\n",
       "      <td>...</td>\n",
       "      <td>c</td>\n",
       "      <td>lean_resp</td>\n",
       "      <td>1</td>\n",
       "      <td>7.066467</td>\n",
       "      <td>0</td>\n",
       "      <td>6.225349</td>\n",
       "      <td>0.338779</td>\n",
       "      <td>0</td>\n",
       "      <td>1.259265</td>\n",
       "      <td>0.575523</td>\n",
       "    </tr>\n",
       "    <tr>\n",
       "      <th>2</th>\n",
       "      <td>v_subj(CTL).DTC022</td>\n",
       "      <td>0.843091</td>\n",
       "      <td>DTC022</td>\n",
       "      <td>395</td>\n",
       "      <td>400</td>\n",
       "      <td>400</td>\n",
       "      <td>920</td>\n",
       "      <td>0</td>\n",
       "      <td>0</td>\n",
       "      <td>1</td>\n",
       "      <td>...</td>\n",
       "      <td>m</td>\n",
       "      <td>lean_resp</td>\n",
       "      <td>1</td>\n",
       "      <td>6.824374</td>\n",
       "      <td>0</td>\n",
       "      <td>6.603664</td>\n",
       "      <td>0.363339</td>\n",
       "      <td>0</td>\n",
       "      <td>1.595259</td>\n",
       "      <td>0.545022</td>\n",
       "    </tr>\n",
       "    <tr>\n",
       "      <th>3</th>\n",
       "      <td>v_subj(CTL).DTC023</td>\n",
       "      <td>1.375186</td>\n",
       "      <td>DTC023</td>\n",
       "      <td>592</td>\n",
       "      <td>600</td>\n",
       "      <td>600</td>\n",
       "      <td>587</td>\n",
       "      <td>1</td>\n",
       "      <td>0</td>\n",
       "      <td>1</td>\n",
       "      <td>...</td>\n",
       "      <td>m</td>\n",
       "      <td>rich_resp</td>\n",
       "      <td>1</td>\n",
       "      <td>6.375025</td>\n",
       "      <td>0</td>\n",
       "      <td>6.177881</td>\n",
       "      <td>0.303305</td>\n",
       "      <td>0</td>\n",
       "      <td>1.088183</td>\n",
       "      <td>0.522977</td>\n",
       "    </tr>\n",
       "    <tr>\n",
       "      <th>4</th>\n",
       "      <td>v_subj(CTL).DTC024</td>\n",
       "      <td>1.747957</td>\n",
       "      <td>DTC024</td>\n",
       "      <td>790</td>\n",
       "      <td>800</td>\n",
       "      <td>800</td>\n",
       "      <td>575</td>\n",
       "      <td>0</td>\n",
       "      <td>0</td>\n",
       "      <td>1</td>\n",
       "      <td>...</td>\n",
       "      <td>c</td>\n",
       "      <td>lean_resp</td>\n",
       "      <td>1</td>\n",
       "      <td>6.354370</td>\n",
       "      <td>0</td>\n",
       "      <td>6.058692</td>\n",
       "      <td>0.266612</td>\n",
       "      <td>0</td>\n",
       "      <td>1.088731</td>\n",
       "      <td>0.548859</td>\n",
       "    </tr>\n",
       "    <tr>\n",
       "      <th>5</th>\n",
       "      <td>v_subj(CTL).DTC025</td>\n",
       "      <td>1.632723</td>\n",
       "      <td>DTC025</td>\n",
       "      <td>986</td>\n",
       "      <td>1000</td>\n",
       "      <td>1000</td>\n",
       "      <td>608</td>\n",
       "      <td>0</td>\n",
       "      <td>0</td>\n",
       "      <td>1</td>\n",
       "      <td>...</td>\n",
       "      <td>c</td>\n",
       "      <td>rich_resp</td>\n",
       "      <td>1</td>\n",
       "      <td>6.410175</td>\n",
       "      <td>0</td>\n",
       "      <td>6.006471</td>\n",
       "      <td>0.264405</td>\n",
       "      <td>0</td>\n",
       "      <td>1.154896</td>\n",
       "      <td>0.593357</td>\n",
       "    </tr>\n",
       "    <tr>\n",
       "      <th>6</th>\n",
       "      <td>v_subj(CTL).DTC026</td>\n",
       "      <td>1.277700</td>\n",
       "      <td>DTC026</td>\n",
       "      <td>1183</td>\n",
       "      <td>1200</td>\n",
       "      <td>1200</td>\n",
       "      <td>515</td>\n",
       "      <td>0</td>\n",
       "      <td>0</td>\n",
       "      <td>1</td>\n",
       "      <td>...</td>\n",
       "      <td>m</td>\n",
       "      <td>lean_resp</td>\n",
       "      <td>1</td>\n",
       "      <td>6.244167</td>\n",
       "      <td>0</td>\n",
       "      <td>6.155727</td>\n",
       "      <td>0.374361</td>\n",
       "      <td>0</td>\n",
       "      <td>1.224471</td>\n",
       "      <td>0.394559</td>\n",
       "    </tr>\n",
       "    <tr>\n",
       "      <th>7</th>\n",
       "      <td>v_subj(CTL).DTC027</td>\n",
       "      <td>1.174098</td>\n",
       "      <td>DTC027</td>\n",
       "      <td>1379</td>\n",
       "      <td>1400</td>\n",
       "      <td>1400</td>\n",
       "      <td>786</td>\n",
       "      <td>0</td>\n",
       "      <td>0</td>\n",
       "      <td>1</td>\n",
       "      <td>...</td>\n",
       "      <td>m</td>\n",
       "      <td>rich_resp</td>\n",
       "      <td>1</td>\n",
       "      <td>6.666957</td>\n",
       "      <td>0</td>\n",
       "      <td>6.233220</td>\n",
       "      <td>0.321673</td>\n",
       "      <td>0</td>\n",
       "      <td>1.257903</td>\n",
       "      <td>0.621666</td>\n",
       "    </tr>\n",
       "    <tr>\n",
       "      <th>8</th>\n",
       "      <td>v_subj(CTL).DTC029</td>\n",
       "      <td>1.331318</td>\n",
       "      <td>DTC029</td>\n",
       "      <td>1579</td>\n",
       "      <td>1600</td>\n",
       "      <td>1600</td>\n",
       "      <td>728</td>\n",
       "      <td>0</td>\n",
       "      <td>0</td>\n",
       "      <td>1</td>\n",
       "      <td>...</td>\n",
       "      <td>c</td>\n",
       "      <td>lean_resp</td>\n",
       "      <td>1</td>\n",
       "      <td>6.590301</td>\n",
       "      <td>0</td>\n",
       "      <td>6.362719</td>\n",
       "      <td>0.350666</td>\n",
       "      <td>0</td>\n",
       "      <td>1.364926</td>\n",
       "      <td>0.454907</td>\n",
       "    </tr>\n",
       "    <tr>\n",
       "      <th>9</th>\n",
       "      <td>v_subj(CTL).DTC030</td>\n",
       "      <td>1.760363</td>\n",
       "      <td>DTC030</td>\n",
       "      <td>1777</td>\n",
       "      <td>1800</td>\n",
       "      <td>1800</td>\n",
       "      <td>615</td>\n",
       "      <td>0</td>\n",
       "      <td>0</td>\n",
       "      <td>1</td>\n",
       "      <td>...</td>\n",
       "      <td>c</td>\n",
       "      <td>rich_resp</td>\n",
       "      <td>1</td>\n",
       "      <td>6.421622</td>\n",
       "      <td>0</td>\n",
       "      <td>6.184121</td>\n",
       "      <td>0.270475</td>\n",
       "      <td>0</td>\n",
       "      <td>1.190520</td>\n",
       "      <td>0.541289</td>\n",
       "    </tr>\n",
       "  </tbody>\n",
       "</table>\n",
       "<p>10 rows × 34 columns</p>\n",
       "</div>"
      ],
      "text/plain": [
       "           to_extract    mean_v subj_idx  Unnamed: 0  Unnamed: 0.1  index  \\\n",
       "0  v_subj(CTL).DTC020  1.378730   DTC020           0             0      0   \n",
       "1  v_subj(CTL).DTC021  1.445843   DTC021         196           200    200   \n",
       "2  v_subj(CTL).DTC022  0.843091   DTC022         395           400    400   \n",
       "3  v_subj(CTL).DTC023  1.375186   DTC023         592           600    600   \n",
       "4  v_subj(CTL).DTC024  1.747957   DTC024         790           800    800   \n",
       "5  v_subj(CTL).DTC025  1.632723   DTC025         986          1000   1000   \n",
       "6  v_subj(CTL).DTC026  1.277700   DTC026        1183          1200   1200   \n",
       "7  v_subj(CTL).DTC027  1.174098   DTC027        1379          1400   1400   \n",
       "8  v_subj(CTL).DTC029  1.331318   DTC029        1579          1600   1600   \n",
       "9  v_subj(CTL).DTC030  1.760363   DTC030        1777          1800   1800   \n",
       "\n",
       "     rt  little_due  big_due  trial    ...     rich_key    rl_resp block  \\\n",
       "0   670           0        0      1    ...            c  lean_resp     1   \n",
       "1  1172           0        0      1    ...            c  lean_resp     1   \n",
       "2   920           0        0      1    ...            m  lean_resp     1   \n",
       "3   587           1        0      1    ...            m  rich_resp     1   \n",
       "4   575           0        0      1    ...            c  lean_resp     1   \n",
       "5   608           0        0      1    ...            c  rich_resp     1   \n",
       "6   515           0        0      1    ...            m  lean_resp     1   \n",
       "7   786           0        0      1    ...            m  rich_resp     1   \n",
       "8   728           0        0      1    ...            c  lean_resp     1   \n",
       "9   615           0        0      1    ...            c  rich_resp     1   \n",
       "\n",
       "      ln_rt  outlier mean_ln_rt    ln_std  outlier_sub    mean_a    mean_z  \n",
       "0  6.507278        0   6.111284  0.277035            0  1.299195  0.437384  \n",
       "1  7.066467        0   6.225349  0.338779            0  1.259265  0.575523  \n",
       "2  6.824374        0   6.603664  0.363339            0  1.595259  0.545022  \n",
       "3  6.375025        0   6.177881  0.303305            0  1.088183  0.522977  \n",
       "4  6.354370        0   6.058692  0.266612            0  1.088731  0.548859  \n",
       "5  6.410175        0   6.006471  0.264405            0  1.154896  0.593357  \n",
       "6  6.244167        0   6.155727  0.374361            0  1.224471  0.394559  \n",
       "7  6.666957        0   6.233220  0.321673            0  1.257903  0.621666  \n",
       "8  6.590301        0   6.362719  0.350666            0  1.364926  0.454907  \n",
       "9  6.421622        0   6.184121  0.270475            0  1.190520  0.541289  \n",
       "\n",
       "[10 rows x 34 columns]"
      ]
     },
     "execution_count": 464,
     "metadata": {},
     "output_type": "execute_result"
    }
   ],
   "source": [
    "# get the data into usable form \n",
    "reward_stats_v = reward_stats[reward_stats['param'] == 'v']\n",
    "reward_stats_a = reward_stats[reward_stats['param'] == 'a']\n",
    "reward_stats_z = reward_stats[reward_stats['param'] == 'z']\n",
    "reward_stats_v.rename(columns={'mean':'mean_v'}, inplace = True)\n",
    "reward_stats_a.rename(columns={'mean':'mean_a'}, inplace = True)\n",
    "reward_stats_z.rename(columns={'mean':'mean_z'}, inplace = True)\n",
    "reward_stats = reward_stats_v.merge(reward_stats_a[['mean_a', 'subj_idx']], on = 'subj_idx')\n",
    "reward_stats = reward_stats.merge(reward_stats_z[['mean_z', 'subj_idx']], on = 'subj_idx')\n",
    "del reward_stats['param']\n",
    "reward_stats.head(10)"
   ]
  },
  {
   "cell_type": "code",
   "execution_count": 465,
   "metadata": {
    "collapsed": true
   },
   "outputs": [],
   "source": [
    "reward_stats.to_csv(path2data + 'session1_hddm_params.csv')"
   ]
  },
  {
   "cell_type": "markdown",
   "metadata": {},
   "source": [
    "# Follow-up"
   ]
  },
  {
   "cell_type": "code",
   "execution_count": 514,
   "metadata": {
    "collapsed": true
   },
   "outputs": [],
   "source": [
    "data = pd.read_csv('/Users/victorialawlor/Work/Expts/KIDPRT/Data/session2_trial_clean.csv')"
   ]
  },
  {
   "cell_type": "code",
   "execution_count": 515,
   "metadata": {
    "collapsed": false
   },
   "outputs": [
    {
     "data": {
      "text/plain": [
       "group\n",
       "CTL    33\n",
       "MDD    20\n",
       "Name: subjectID, dtype: int64"
      ]
     },
     "execution_count": 515,
     "metadata": {},
     "output_type": "execute_result"
    }
   ],
   "source": [
    "data.groupby('group').subjectID.nunique()"
   ]
  },
  {
   "cell_type": "markdown",
   "metadata": {},
   "source": [
    "### Participant Characteristics"
   ]
  },
  {
   "cell_type": "markdown",
   "metadata": {},
   "source": [
    "### Standard Analysis"
   ]
  },
  {
   "cell_type": "markdown",
   "metadata": {},
   "source": [
    "Both groups develop a response bias"
   ]
  },
  {
   "cell_type": "code",
   "execution_count": 402,
   "metadata": {
    "collapsed": false
   },
   "outputs": [
    {
     "data": {
      "text/plain": [
       "\n",
       "\tOne Sample t-test\n",
       "\n",
       "data:  data_mdd$RB_adjst_all_block\n",
       "t = 35.408, df = 3954, p-value < 2.2e-16\n",
       "alternative hypothesis: true mean is greater than 0\n",
       "95 percent confidence interval:\n",
       " 0.1005101       Inf\n",
       "sample estimates:\n",
       "mean of x \n",
       "0.1054079 \n",
       "\n"
      ]
     },
     "metadata": {},
     "output_type": "display_data"
    }
   ],
   "source": [
    "data_mdd = data.loc[data.group == 'MDD']\n",
    "%Rpush data_mdd\n",
    "%R rb.test <- t.test(data_mdd$RB_adjst_all_block, mu=0, alternative=\"greater\")\n",
    "%R print (rb.test)"
   ]
  },
  {
   "cell_type": "code",
   "execution_count": 403,
   "metadata": {
    "collapsed": false
   },
   "outputs": [
    {
     "data": {
      "text/plain": [
       "\n",
       "\tOne Sample t-test\n",
       "\n",
       "data:  data_ctl$RB_adjst_all_block\n",
       "t = 21.472, df = 6505, p-value < 2.2e-16\n",
       "alternative hypothesis: true mean is greater than 0\n",
       "95 percent confidence interval:\n",
       " 0.05540865        Inf\n",
       "sample estimates:\n",
       " mean of x \n",
       "0.06000615 \n",
       "\n"
      ]
     },
     "metadata": {},
     "output_type": "display_data"
    }
   ],
   "source": [
    "data_ctl = data.loc[data.group == 'CTL']\n",
    "%Rpush data_ctl\n",
    "%R rb.test <- t.test(data_ctl$RB_adjst_all_block, mu=0, alternative=\"greater\")\n",
    "%R print (rb.test)"
   ]
  },
  {
   "cell_type": "code",
   "execution_count": 405,
   "metadata": {
    "collapsed": false
   },
   "outputs": [
    {
     "data": {
      "text/plain": [
       "Anova Table (Type 3 tests)\n",
       "\n",
       "Response: RB_adjst_all_block\n",
       "       Effect    df  MSE    F   pes p.value\n",
       "1       group 1, 51 0.07 0.76   .01     .39\n",
       "2       block 1, 51 0.03 0.04 .0007     .85\n",
       "3 group:block 1, 51 0.03 0.08  .002     .78\n",
       "\n",
       "Sphericity correction method: GG \n"
      ]
     },
     "metadata": {},
     "output_type": "display_data"
    },
    {
     "data": {
      "image/png": "[encoded data removed]",
      "text/plain": [
       "<matplotlib.figure.Figure at 0x1308b5a58>"
      ]
     },
     "metadata": {},
     "output_type": "display_data"
    }
   ],
   "source": [
    "total_rb_plot = sns.barplot(y='RB_adjst_all_block', x = 'block', hue = 'group', data = data, ci=68)\n",
    "\n",
    "%Rpush data\n",
    "%R rb.aov <- aov_ez(\"subjectID\", dv = \"RB_adjst_all_block\", \\\n",
    "                                 data = data, within = \"block\", \\\n",
    "                                 between = \"group\",anova_table=list(correction=\"GG\", es = \"pes\"))\n",
    "%R print(rb.aov)"
   ]
  },
  {
   "cell_type": "code",
   "execution_count": 406,
   "metadata": {
    "collapsed": false
   },
   "outputs": [
    {
     "data": {
      "text/plain": [
       "Anova Table (Type 3 tests)\n",
       "\n",
       "Response: RB_b2_minus_b1\n",
       "  Effect    df  MSE    F  pes p.value\n",
       "1  group 1, 51 0.05 0.08 .002     .78\n"
      ]
     },
     "metadata": {},
     "output_type": "display_data"
    }
   ],
   "source": [
    "%Rpush data\n",
    "%R rb.aov <- aov_ez(\"subjectID\", dv = \"RB_b2_minus_b1\", \\\n",
    "                                 data = data, between = \"group\",anova_table=list(correction=\"GG\", es = \"pes\"))\n",
    "%R print(rb.aov)"
   ]
  },
  {
   "cell_type": "code",
   "execution_count": 407,
   "metadata": {
    "collapsed": false
   },
   "outputs": [
    {
     "data": {
      "text/plain": [
       "Anova Table (Type 3 tests)\n",
       "\n",
       "Response: dis_adjst_all_block\n",
       "       Effect    df  MSE       F  pes p.value\n",
       "1       group 1, 51 0.08    0.25 .005     .62\n",
       "2       block 1, 51 0.01 9.73 **  .16    .003\n",
       "3 group:block 1, 51 0.01    1.33  .03     .25\n",
       "\n",
       "Sphericity correction method: GG \n"
      ]
     },
     "metadata": {},
     "output_type": "display_data"
    },
    {
     "data": {
      "image/png": "[encoded data removed]",
      "text/plain": [
       "<matplotlib.figure.Figure at 0x130ef77b8>"
      ]
     },
     "metadata": {},
     "output_type": "display_data"
    }
   ],
   "source": [
    "plot = sns.barplot(y='dis_adjst_all_block', x = 'block', \n",
    "                                   data = data, hue = 'group', ci=68, units= 'subjectID')\n",
    "%Rpush data\n",
    "%R discriminability.aov <- aov_ez(\"subjectID\", dv = \"dis_adjst_all_block\", \\\n",
    "                                 data = data, within = 'block',\\\n",
    "                                 between = \"group\",anova_table=list(correction=\"GG\", es = \"pes\"))\n",
    "%R print (discriminability.aov)"
   ]
  },
  {
   "cell_type": "code",
   "execution_count": 408,
   "metadata": {
    "collapsed": false
   },
   "outputs": [
    {
     "data": {
      "text/plain": [
       "Anova Table (Type 3 tests)\n",
       "\n",
       "Response: ln_rt\n",
       "       Effect    df  MSE      F pes p.value\n",
       "1       group 1, 51 0.07 4.68 * .08     .04\n",
       "2       block 1, 51 0.01 5.86 * .10     .02\n",
       "3 group:block 1, 51 0.01   0.69 .01     .41\n",
       "\n",
       "Sphericity correction method: GG \n"
      ]
     },
     "metadata": {},
     "output_type": "display_data"
    },
    {
     "data": {
      "image/png": "[encoded data removed]",
      "text/plain": [
       "<matplotlib.figure.Figure at 0x13303b400>"
      ]
     },
     "metadata": {},
     "output_type": "display_data"
    }
   ],
   "source": [
    "rt_plot = sns.barplot(y='rt', x = 'block', hue = 'group', data=data,  \\\n",
    "                      ci=68, units = 'subjectID')\n",
    "\n",
    "%Rpush data\n",
    "%R rt.aov <- aov_ez(\"subjectID\", dv = \"ln_rt\", \\\n",
    "                                 data = data, within = 'block',\\\n",
    "                                 between = 'group',anova_table=list(correction=\"GG\", es = \"pes\"))\n",
    "%R print (rt.aov)"
   ]
  },
  {
   "cell_type": "markdown",
   "metadata": {},
   "source": [
    "### HDDM"
   ]
  },
  {
   "cell_type": "code",
   "execution_count": 409,
   "metadata": {
    "collapsed": true
   },
   "outputs": [],
   "source": [
    "# getting the data HDDM compatible\n",
    "\n",
    "data.loc[data.rl_resp == 'rich_resp', 'response'] = 1\n",
    "data.loc[data.rl_resp == 'lean_resp', 'response'] = 0\n",
    "data.loc[data.rl_stim == 'rich_stim', 'stim'] = 1\n",
    "data.loc[data.rl_stim == 'lean_stim', 'stim'] = 0\n",
    "data.rename(columns={'subjectID': 'subj_idx'}, inplace=True)\n",
    "data['rt'] = data.rt/1000\n",
    "data.to_csv(path2data + 'session2_hddm_ready.csv')"
   ]
  },
  {
   "cell_type": "code",
   "execution_count": 410,
   "metadata": {
    "collapsed": true
   },
   "outputs": [],
   "source": [
    "data = hddm.load_csv(path2data + 'session2_hddm_ready.csv')"
   ]
  },
  {
   "cell_type": "code",
   "execution_count": 416,
   "metadata": {
    "collapsed": false
   },
   "outputs": [
    {
     "name": "stdout",
     "output_type": "stream",
     "text": [
      " [-----------------100%-----------------] 10000 of 10000 complete in 1590.2 sec"
     ]
    },
    {
     "data": {
      "text/plain": [
       "<pymc.MCMC.MCMC at 0x130e6ef28>"
      ]
     },
     "execution_count": 416,
     "metadata": {},
     "output_type": "execute_result"
    }
   ],
   "source": [
    "session2_model = hddm.HDDMStimCoding(data, include='z', stim_col='stim', split_param='v',depends_on={'v': 'group', 'a': 'group', 't': 'group', 'z': 'group'})\n",
    "session2_model.find_starting_values()\n",
    "session2_model.sample(10000, burn=1000)"
   ]
  },
  {
   "cell_type": "code",
   "execution_count": 417,
   "metadata": {
    "collapsed": false
   },
   "outputs": [
    {
     "name": "stdout",
     "output_type": "stream",
     "text": [
      "P_a(MDD > CON) =  0.993333333333\n",
      "P_a(CON > MDD) =  0.00666666666667\n"
     ]
    },
    {
     "data": {
      "image/png": "[encoded data removed]",
      "text/plain": [
       "<matplotlib.figure.Figure at 0x1367a9898>"
      ]
     },
     "metadata": {},
     "output_type": "display_data"
    }
   ],
   "source": [
    "a_MDD, a_CON = session2_model.nodes_db.node[['a(MDD)','a(CTL)']]\n",
    "hddm.analyze.plot_posterior_nodes([a_MDD, a_CON])\n",
    "plt.xlabel('a')\n",
    "plt.ylabel('Posterior probability')\n",
    "plt.title('Posterior of threshold group means')\n",
    "\n",
    "print (\"P_a(MDD > CON) = \", (a_MDD.trace() > a_CON.trace()).mean())\n",
    "print (\"P_a(CON > MDD) = \", (a_CON.trace() > a_MDD.trace()).mean())"
   ]
  },
  {
   "cell_type": "code",
   "execution_count": 418,
   "metadata": {
    "collapsed": false
   },
   "outputs": [
    {
     "name": "stdout",
     "output_type": "stream",
     "text": [
      "P_a(MDD > CON) =  0.442\n",
      "P_a(CON > MDD) =  0.558\n"
     ]
    },
    {
     "data": {
      "image/png": "[encoded data removed]",
      "text/plain": [
       "<matplotlib.figure.Figure at 0x1317107b8>"
      ]
     },
     "metadata": {},
     "output_type": "display_data"
    }
   ],
   "source": [
    "v_MDD, v_CON = session2_model.nodes_db.node[['v(MDD)','v(CTL)']]\n",
    "hddm.analyze.plot_posterior_nodes([v_MDD, v_CON])\n",
    "plt.xlabel('v')\n",
    "plt.ylabel('Posterior probability')\n",
    "plt.title('Posterior of drift group means')\n",
    "\n",
    "print (\"P_a(MDD > CON) = \", (v_MDD.trace() > v_CON.trace()).mean())\n",
    "print (\"P_a(CON > MDD) = \", (v_CON.trace() > v_MDD.trace()).mean())"
   ]
  },
  {
   "cell_type": "code",
   "execution_count": 419,
   "metadata": {
    "collapsed": false
   },
   "outputs": [
    {
     "name": "stdout",
     "output_type": "stream",
     "text": [
      "P_a(MDD > CON) =  0.691666666667\n",
      "P_a(CON > MDD) =  0.308333333333\n"
     ]
    },
    {
     "data": {
      "image/png": "[encoded data removed]",
      "text/plain": [
       "<matplotlib.figure.Figure at 0x1316a02e8>"
      ]
     },
     "metadata": {},
     "output_type": "display_data"
    }
   ],
   "source": [
    "z_MDD, z_CON = session2_model.nodes_db.node[['z(MDD)','z(CTL)']]\n",
    "hddm.analyze.plot_posterior_nodes([z_MDD, z_CON])\n",
    "plt.xlabel('z')\n",
    "plt.ylabel('Posterior probability')\n",
    "plt.title('Posterior of bias group means')\n",
    "\n",
    "print (\"P_a(MDD > CON) = \", (z_MDD.trace() > z_CON.trace()).mean())\n",
    "print (\"P_a(CON > MDD) = \", (z_CON.trace() > z_MDD.trace()).mean())"
   ]
  },
  {
   "cell_type": "code",
   "execution_count": 442,
   "metadata": {
    "collapsed": false
   },
   "outputs": [
    {
     "name": "stdout",
     "output_type": "stream",
     "text": [
      "P_a(MDD > CON) =  0.676777777778\n",
      "P_a(CON > MDD) =  0.323222222222\n"
     ]
    },
    {
     "data": {
      "image/png": "[encoded data removed]",
      "text/plain": [
       "<matplotlib.figure.Figure at 0x130d831d0>"
      ]
     },
     "metadata": {},
     "output_type": "display_data"
    }
   ],
   "source": [
    "t_MDD, t_CON = session2_model.nodes_db.node[['t(MDD)','t(CTL)']]\n",
    "hddm.analyze.plot_posterior_nodes([t_MDD, t_CON])\n",
    "plt.xlabel('t')\n",
    "plt.ylabel('Posterior probability')\n",
    "plt.title('Posterior of non decision time group means')\n",
    "\n",
    "print (\"P_a(MDD > CON) = \", (t_MDD.trace() > t_CON.trace()).mean())\n",
    "print (\"P_a(CON > MDD) = \", (t_CON.trace() > t_MDD.trace()).mean())"
   ]
  },
  {
   "cell_type": "code",
   "execution_count": 451,
   "metadata": {
    "collapsed": true
   },
   "outputs": [],
   "source": [
    "sess2 = pd.read_csv('/Users/victorialawlor/Work/Expts/KIDPRT/Data/session2_trial_clean.csv')"
   ]
  },
  {
   "cell_type": "code",
   "execution_count": 471,
   "metadata": {
    "collapsed": false
   },
   "outputs": [
    {
     "data": {
      "text/html": [
       "<div>\n",
       "<table border=\"1\" class=\"dataframe\">\n",
       "  <thead>\n",
       "    <tr style=\"text-align: right;\">\n",
       "      <th></th>\n",
       "      <th>to_extract</th>\n",
       "      <th>mean</th>\n",
       "      <th>std</th>\n",
       "      <th>2.5q</th>\n",
       "      <th>25q</th>\n",
       "      <th>50q</th>\n",
       "      <th>75q</th>\n",
       "      <th>97.5q</th>\n",
       "      <th>mc err</th>\n",
       "    </tr>\n",
       "  </thead>\n",
       "  <tbody>\n",
       "    <tr>\n",
       "      <th>0</th>\n",
       "      <td>a(CTL)</td>\n",
       "      <td>1.127676</td>\n",
       "      <td>0.028231</td>\n",
       "      <td>1.072920</td>\n",
       "      <td>1.108966</td>\n",
       "      <td>1.127644</td>\n",
       "      <td>1.146302</td>\n",
       "      <td>1.184455</td>\n",
       "      <td>0.000317</td>\n",
       "    </tr>\n",
       "    <tr>\n",
       "      <th>1</th>\n",
       "      <td>a(MDD)</td>\n",
       "      <td>1.242494</td>\n",
       "      <td>0.036427</td>\n",
       "      <td>1.172983</td>\n",
       "      <td>1.217971</td>\n",
       "      <td>1.242596</td>\n",
       "      <td>1.266785</td>\n",
       "      <td>1.314129</td>\n",
       "      <td>0.000404</td>\n",
       "    </tr>\n",
       "    <tr>\n",
       "      <th>2</th>\n",
       "      <td>a_std</td>\n",
       "      <td>0.156484</td>\n",
       "      <td>0.017307</td>\n",
       "      <td>0.126344</td>\n",
       "      <td>0.144405</td>\n",
       "      <td>0.155051</td>\n",
       "      <td>0.167055</td>\n",
       "      <td>0.194357</td>\n",
       "      <td>0.000226</td>\n",
       "    </tr>\n",
       "    <tr>\n",
       "      <th>3</th>\n",
       "      <td>a_subj(CTL).DTC020</td>\n",
       "      <td>0.973029</td>\n",
       "      <td>0.036292</td>\n",
       "      <td>0.904643</td>\n",
       "      <td>0.947902</td>\n",
       "      <td>0.972325</td>\n",
       "      <td>0.996971</td>\n",
       "      <td>1.047549</td>\n",
       "      <td>0.000548</td>\n",
       "    </tr>\n",
       "    <tr>\n",
       "      <th>4</th>\n",
       "      <td>a_subj(CTL).DTC021</td>\n",
       "      <td>1.154010</td>\n",
       "      <td>0.047526</td>\n",
       "      <td>1.066172</td>\n",
       "      <td>1.121438</td>\n",
       "      <td>1.152093</td>\n",
       "      <td>1.184596</td>\n",
       "      <td>1.254532</td>\n",
       "      <td>0.000708</td>\n",
       "    </tr>\n",
       "  </tbody>\n",
       "</table>\n",
       "</div>"
      ],
      "text/plain": [
       "           to_extract      mean       std      2.5q       25q       50q  \\\n",
       "0              a(CTL)  1.127676  0.028231  1.072920  1.108966  1.127644   \n",
       "1              a(MDD)  1.242494  0.036427  1.172983  1.217971  1.242596   \n",
       "2               a_std  0.156484  0.017307  0.126344  0.144405  0.155051   \n",
       "3  a_subj(CTL).DTC020  0.973029  0.036292  0.904643  0.947902  0.972325   \n",
       "4  a_subj(CTL).DTC021  1.154010  0.047526  1.066172  1.121438  1.152093   \n",
       "\n",
       "        75q     97.5q    mc err  \n",
       "0  1.146302  1.184455  0.000317  \n",
       "1  1.266785  1.314129  0.000404  \n",
       "2  0.167055  0.194357  0.000226  \n",
       "3  0.996971  1.047549  0.000548  \n",
       "4  1.184596  1.254532  0.000708  "
      ]
     },
     "execution_count": 471,
     "metadata": {},
     "output_type": "execute_result"
    }
   ],
   "source": [
    "stats = session2_model.gen_stats()\n",
    "stats.to_csv(path2data + 'session2_modelstats.csv')\n",
    "stats = pd.read_csv(path2data + 'session2_modelstats.csv')\n",
    "stats.rename(columns={'Unnamed: 0': 'to_extract'}, inplace=True)\n",
    "stats.head(5)"
   ]
  },
  {
   "cell_type": "code",
   "execution_count": 472,
   "metadata": {
    "collapsed": false,
    "scrolled": true
   },
   "outputs": [
    {
     "data": {
      "text/html": [
       "<div>\n",
       "<table border=\"1\" class=\"dataframe\">\n",
       "  <thead>\n",
       "    <tr style=\"text-align: right;\">\n",
       "      <th></th>\n",
       "      <th>to_extract</th>\n",
       "      <th>mean</th>\n",
       "      <th>param</th>\n",
       "      <th>subj_idx</th>\n",
       "      <th>Unnamed: 0</th>\n",
       "      <th>Unnamed: 0.1</th>\n",
       "      <th>index</th>\n",
       "      <th>rt</th>\n",
       "      <th>little_due</th>\n",
       "      <th>big_due</th>\n",
       "      <th>...</th>\n",
       "      <th>ln_rt</th>\n",
       "      <th>outlier</th>\n",
       "      <th>mean_ln_rt</th>\n",
       "      <th>ln_std</th>\n",
       "      <th>outlier_sub</th>\n",
       "      <th>RB_adjst_all_total</th>\n",
       "      <th>dis_adjst_all_total</th>\n",
       "      <th>RB_adjst_all_block</th>\n",
       "      <th>dis_adjst_all_block</th>\n",
       "      <th>RB_b2_minus_b1</th>\n",
       "    </tr>\n",
       "  </thead>\n",
       "  <tbody>\n",
       "    <tr>\n",
       "      <th>0</th>\n",
       "      <td>a_subj(CTL).DTC020</td>\n",
       "      <td>0.973029</td>\n",
       "      <td>a</td>\n",
       "      <td>DTC020</td>\n",
       "      <td>0</td>\n",
       "      <td>0</td>\n",
       "      <td>0</td>\n",
       "      <td>661</td>\n",
       "      <td>0</td>\n",
       "      <td>0</td>\n",
       "      <td>...</td>\n",
       "      <td>6.493754</td>\n",
       "      <td>0</td>\n",
       "      <td>5.748988</td>\n",
       "      <td>0.319394</td>\n",
       "      <td>0</td>\n",
       "      <td>-0.005830</td>\n",
       "      <td>0.539679</td>\n",
       "      <td>-0.128076</td>\n",
       "      <td>0.593459</td>\n",
       "      <td>0.225768</td>\n",
       "    </tr>\n",
       "    <tr>\n",
       "      <th>1</th>\n",
       "      <td>v_subj(CTL).DTC020</td>\n",
       "      <td>1.373494</td>\n",
       "      <td>v</td>\n",
       "      <td>DTC020</td>\n",
       "      <td>0</td>\n",
       "      <td>0</td>\n",
       "      <td>0</td>\n",
       "      <td>661</td>\n",
       "      <td>0</td>\n",
       "      <td>0</td>\n",
       "      <td>...</td>\n",
       "      <td>6.493754</td>\n",
       "      <td>0</td>\n",
       "      <td>5.748988</td>\n",
       "      <td>0.319394</td>\n",
       "      <td>0</td>\n",
       "      <td>-0.005830</td>\n",
       "      <td>0.539679</td>\n",
       "      <td>-0.128076</td>\n",
       "      <td>0.593459</td>\n",
       "      <td>0.225768</td>\n",
       "    </tr>\n",
       "    <tr>\n",
       "      <th>2</th>\n",
       "      <td>t_subj(CTL).DTC020</td>\n",
       "      <td>0.131828</td>\n",
       "      <td>t</td>\n",
       "      <td>DTC020</td>\n",
       "      <td>0</td>\n",
       "      <td>0</td>\n",
       "      <td>0</td>\n",
       "      <td>661</td>\n",
       "      <td>0</td>\n",
       "      <td>0</td>\n",
       "      <td>...</td>\n",
       "      <td>6.493754</td>\n",
       "      <td>0</td>\n",
       "      <td>5.748988</td>\n",
       "      <td>0.319394</td>\n",
       "      <td>0</td>\n",
       "      <td>-0.005830</td>\n",
       "      <td>0.539679</td>\n",
       "      <td>-0.128076</td>\n",
       "      <td>0.593459</td>\n",
       "      <td>0.225768</td>\n",
       "    </tr>\n",
       "    <tr>\n",
       "      <th>3</th>\n",
       "      <td>z_subj(CTL).DTC020</td>\n",
       "      <td>0.528460</td>\n",
       "      <td>z</td>\n",
       "      <td>DTC020</td>\n",
       "      <td>0</td>\n",
       "      <td>0</td>\n",
       "      <td>0</td>\n",
       "      <td>661</td>\n",
       "      <td>0</td>\n",
       "      <td>0</td>\n",
       "      <td>...</td>\n",
       "      <td>6.493754</td>\n",
       "      <td>0</td>\n",
       "      <td>5.748988</td>\n",
       "      <td>0.319394</td>\n",
       "      <td>0</td>\n",
       "      <td>-0.005830</td>\n",
       "      <td>0.539679</td>\n",
       "      <td>-0.128076</td>\n",
       "      <td>0.593459</td>\n",
       "      <td>0.225768</td>\n",
       "    </tr>\n",
       "    <tr>\n",
       "      <th>4</th>\n",
       "      <td>a_subj(CTL).DTC021</td>\n",
       "      <td>1.154010</td>\n",
       "      <td>a</td>\n",
       "      <td>DTC021</td>\n",
       "      <td>190</td>\n",
       "      <td>200</td>\n",
       "      <td>200</td>\n",
       "      <td>440</td>\n",
       "      <td>0</td>\n",
       "      <td>0</td>\n",
       "      <td>...</td>\n",
       "      <td>6.086775</td>\n",
       "      <td>0</td>\n",
       "      <td>6.097973</td>\n",
       "      <td>0.236966</td>\n",
       "      <td>0</td>\n",
       "      <td>0.284238</td>\n",
       "      <td>0.878280</td>\n",
       "      <td>0.262187</td>\n",
       "      <td>1.025615</td>\n",
       "      <td>0.023085</td>\n",
       "    </tr>\n",
       "  </tbody>\n",
       "</table>\n",
       "<p>5 rows × 38 columns</p>\n",
       "</div>"
      ],
      "text/plain": [
       "           to_extract      mean param subj_idx  Unnamed: 0  Unnamed: 0.1  \\\n",
       "0  a_subj(CTL).DTC020  0.973029     a   DTC020           0             0   \n",
       "1  v_subj(CTL).DTC020  1.373494     v   DTC020           0             0   \n",
       "2  t_subj(CTL).DTC020  0.131828     t   DTC020           0             0   \n",
       "3  z_subj(CTL).DTC020  0.528460     z   DTC020           0             0   \n",
       "4  a_subj(CTL).DTC021  1.154010     a   DTC021         190           200   \n",
       "\n",
       "   index   rt  little_due  big_due      ...           ln_rt  outlier  \\\n",
       "0      0  661           0        0      ...        6.493754        0   \n",
       "1      0  661           0        0      ...        6.493754        0   \n",
       "2      0  661           0        0      ...        6.493754        0   \n",
       "3      0  661           0        0      ...        6.493754        0   \n",
       "4    200  440           0        0      ...        6.086775        0   \n",
       "\n",
       "   mean_ln_rt    ln_std outlier_sub  RB_adjst_all_total dis_adjst_all_total  \\\n",
       "0    5.748988  0.319394           0           -0.005830            0.539679   \n",
       "1    5.748988  0.319394           0           -0.005830            0.539679   \n",
       "2    5.748988  0.319394           0           -0.005830            0.539679   \n",
       "3    5.748988  0.319394           0           -0.005830            0.539679   \n",
       "4    6.097973  0.236966           0            0.284238            0.878280   \n",
       "\n",
       "  RB_adjst_all_block  dis_adjst_all_block RB_b2_minus_b1  \n",
       "0          -0.128076             0.593459       0.225768  \n",
       "1          -0.128076             0.593459       0.225768  \n",
       "2          -0.128076             0.593459       0.225768  \n",
       "3          -0.128076             0.593459       0.225768  \n",
       "4           0.262187             1.025615       0.023085  \n",
       "\n",
       "[5 rows x 38 columns]"
      ]
     },
     "execution_count": 472,
     "metadata": {},
     "output_type": "execute_result"
    }
   ],
   "source": [
    "# get column info and merge this with the behavioral data\n",
    "\n",
    "reward_stats = stats[['to_extract', 'mean']]\n",
    "reward_stats['param'] = reward_stats.to_extract.apply(get_param)\n",
    "reward_stats['subj_idx'] = reward_stats.to_extract.apply(get_id)\n",
    "sess2['subj_idx'] = sess2.subjectID.apply(lambda x: str(x))\n",
    "sess2_summary = sess2.drop_duplicates('subj_idx')\n",
    "reward_stats = pd.merge(reward_stats, sess2_summary, on='subj_idx')\n",
    "reward_stats.head()"
   ]
  },
  {
   "cell_type": "code",
   "execution_count": 473,
   "metadata": {
    "collapsed": false
   },
   "outputs": [
    {
     "data": {
      "text/html": [
       "<div>\n",
       "<table border=\"1\" class=\"dataframe\">\n",
       "  <thead>\n",
       "    <tr style=\"text-align: right;\">\n",
       "      <th></th>\n",
       "      <th>to_extract</th>\n",
       "      <th>mean_v2</th>\n",
       "      <th>subj_idx</th>\n",
       "      <th>Unnamed: 0</th>\n",
       "      <th>Unnamed: 0.1</th>\n",
       "      <th>index</th>\n",
       "      <th>rt</th>\n",
       "      <th>little_due</th>\n",
       "      <th>big_due</th>\n",
       "      <th>trial</th>\n",
       "      <th>...</th>\n",
       "      <th>mean_ln_rt</th>\n",
       "      <th>ln_std</th>\n",
       "      <th>outlier_sub</th>\n",
       "      <th>RB_adjst_all_total</th>\n",
       "      <th>dis_adjst_all_total</th>\n",
       "      <th>RB_adjst_all_block</th>\n",
       "      <th>dis_adjst_all_block</th>\n",
       "      <th>RB_b2_minus_b1</th>\n",
       "      <th>mean_a2</th>\n",
       "      <th>mean_z2</th>\n",
       "    </tr>\n",
       "  </thead>\n",
       "  <tbody>\n",
       "    <tr>\n",
       "      <th>0</th>\n",
       "      <td>v_subj(CTL).DTC020</td>\n",
       "      <td>1.373494</td>\n",
       "      <td>DTC020</td>\n",
       "      <td>0</td>\n",
       "      <td>0</td>\n",
       "      <td>0</td>\n",
       "      <td>661</td>\n",
       "      <td>0</td>\n",
       "      <td>0</td>\n",
       "      <td>1</td>\n",
       "      <td>...</td>\n",
       "      <td>5.748988</td>\n",
       "      <td>0.319394</td>\n",
       "      <td>0</td>\n",
       "      <td>-0.005830</td>\n",
       "      <td>0.539679</td>\n",
       "      <td>-0.128076</td>\n",
       "      <td>0.593459</td>\n",
       "      <td>0.225768</td>\n",
       "      <td>0.973029</td>\n",
       "      <td>0.528460</td>\n",
       "    </tr>\n",
       "    <tr>\n",
       "      <th>1</th>\n",
       "      <td>v_subj(CTL).DTC021</td>\n",
       "      <td>1.826776</td>\n",
       "      <td>DTC021</td>\n",
       "      <td>190</td>\n",
       "      <td>200</td>\n",
       "      <td>200</td>\n",
       "      <td>440</td>\n",
       "      <td>0</td>\n",
       "      <td>0</td>\n",
       "      <td>1</td>\n",
       "      <td>...</td>\n",
       "      <td>6.097973</td>\n",
       "      <td>0.236966</td>\n",
       "      <td>0</td>\n",
       "      <td>0.284238</td>\n",
       "      <td>0.878280</td>\n",
       "      <td>0.262187</td>\n",
       "      <td>1.025615</td>\n",
       "      <td>0.023085</td>\n",
       "      <td>1.154010</td>\n",
       "      <td>0.496617</td>\n",
       "    </tr>\n",
       "    <tr>\n",
       "      <th>2</th>\n",
       "      <td>v_subj(CTL).DTC022</td>\n",
       "      <td>1.810926</td>\n",
       "      <td>DTC022</td>\n",
       "      <td>390</td>\n",
       "      <td>400</td>\n",
       "      <td>400</td>\n",
       "      <td>708</td>\n",
       "      <td>0</td>\n",
       "      <td>0</td>\n",
       "      <td>1</td>\n",
       "      <td>...</td>\n",
       "      <td>6.152736</td>\n",
       "      <td>0.199102</td>\n",
       "      <td>0</td>\n",
       "      <td>0.269444</td>\n",
       "      <td>0.826307</td>\n",
       "      <td>0.221998</td>\n",
       "      <td>0.910627</td>\n",
       "      <td>0.069142</td>\n",
       "      <td>1.170257</td>\n",
       "      <td>0.495701</td>\n",
       "    </tr>\n",
       "    <tr>\n",
       "      <th>3</th>\n",
       "      <td>v_subj(CTL).DTC023</td>\n",
       "      <td>1.586489</td>\n",
       "      <td>DTC023</td>\n",
       "      <td>588</td>\n",
       "      <td>600</td>\n",
       "      <td>600</td>\n",
       "      <td>450</td>\n",
       "      <td>0</td>\n",
       "      <td>0</td>\n",
       "      <td>1</td>\n",
       "      <td>...</td>\n",
       "      <td>5.952972</td>\n",
       "      <td>0.220111</td>\n",
       "      <td>0</td>\n",
       "      <td>0.068148</td>\n",
       "      <td>0.605268</td>\n",
       "      <td>0.046916</td>\n",
       "      <td>0.582815</td>\n",
       "      <td>0.040187</td>\n",
       "      <td>1.045029</td>\n",
       "      <td>0.530512</td>\n",
       "    </tr>\n",
       "    <tr>\n",
       "      <th>4</th>\n",
       "      <td>v_subj(CTL).DTC024</td>\n",
       "      <td>1.362379</td>\n",
       "      <td>DTC024</td>\n",
       "      <td>786</td>\n",
       "      <td>800</td>\n",
       "      <td>800</td>\n",
       "      <td>440</td>\n",
       "      <td>0</td>\n",
       "      <td>0</td>\n",
       "      <td>1</td>\n",
       "      <td>...</td>\n",
       "      <td>5.704769</td>\n",
       "      <td>0.210237</td>\n",
       "      <td>0</td>\n",
       "      <td>0.062446</td>\n",
       "      <td>0.426335</td>\n",
       "      <td>0.023674</td>\n",
       "      <td>0.512225</td>\n",
       "      <td>0.069949</td>\n",
       "      <td>0.849355</td>\n",
       "      <td>0.537928</td>\n",
       "    </tr>\n",
       "  </tbody>\n",
       "</table>\n",
       "<p>5 rows × 39 columns</p>\n",
       "</div>"
      ],
      "text/plain": [
       "           to_extract   mean_v2 subj_idx  Unnamed: 0  Unnamed: 0.1  index  \\\n",
       "0  v_subj(CTL).DTC020  1.373494   DTC020           0             0      0   \n",
       "1  v_subj(CTL).DTC021  1.826776   DTC021         190           200    200   \n",
       "2  v_subj(CTL).DTC022  1.810926   DTC022         390           400    400   \n",
       "3  v_subj(CTL).DTC023  1.586489   DTC023         588           600    600   \n",
       "4  v_subj(CTL).DTC024  1.362379   DTC024         786           800    800   \n",
       "\n",
       "    rt  little_due  big_due  trial    ...     mean_ln_rt    ln_std  \\\n",
       "0  661           0        0      1    ...       5.748988  0.319394   \n",
       "1  440           0        0      1    ...       6.097973  0.236966   \n",
       "2  708           0        0      1    ...       6.152736  0.199102   \n",
       "3  450           0        0      1    ...       5.952972  0.220111   \n",
       "4  440           0        0      1    ...       5.704769  0.210237   \n",
       "\n",
       "  outlier_sub RB_adjst_all_total  dis_adjst_all_total RB_adjst_all_block  \\\n",
       "0           0          -0.005830             0.539679          -0.128076   \n",
       "1           0           0.284238             0.878280           0.262187   \n",
       "2           0           0.269444             0.826307           0.221998   \n",
       "3           0           0.068148             0.605268           0.046916   \n",
       "4           0           0.062446             0.426335           0.023674   \n",
       "\n",
       "  dis_adjst_all_block  RB_b2_minus_b1   mean_a2   mean_z2  \n",
       "0            0.593459        0.225768  0.973029  0.528460  \n",
       "1            1.025615        0.023085  1.154010  0.496617  \n",
       "2            0.910627        0.069142  1.170257  0.495701  \n",
       "3            0.582815        0.040187  1.045029  0.530512  \n",
       "4            0.512225        0.069949  0.849355  0.537928  \n",
       "\n",
       "[5 rows x 39 columns]"
      ]
     },
     "execution_count": 473,
     "metadata": {},
     "output_type": "execute_result"
    }
   ],
   "source": [
    "# get the data into usable form \n",
    "reward_stats_v = reward_stats[reward_stats['param'] == 'v']\n",
    "reward_stats_a = reward_stats[reward_stats['param'] == 'a']\n",
    "reward_stats_z = reward_stats[reward_stats['param'] == 'z']\n",
    "reward_stats_v.rename(columns={'mean':'mean_v2'}, inplace = True)\n",
    "reward_stats_a.rename(columns={'mean':'mean_a2'}, inplace = True)\n",
    "reward_stats_z.rename(columns={'mean':'mean_z2'}, inplace = True)\n",
    "reward_stats = reward_stats_v.merge(reward_stats_a[['mean_a2', 'subj_idx']], on = 'subj_idx')\n",
    "reward_stats = reward_stats.merge(reward_stats_z[['mean_z2', 'subj_idx']], on = 'subj_idx')\n",
    "del reward_stats['param']\n",
    "reward_stats.head()"
   ]
  },
  {
   "cell_type": "code",
   "execution_count": 474,
   "metadata": {
    "collapsed": true
   },
   "outputs": [],
   "source": [
    "reward_stats.to_csv(path2data + 'session2_hddm_params.csv')"
   ]
  },
  {
   "cell_type": "markdown",
   "metadata": {},
   "source": [
    "# HDDM Stability"
   ]
  },
  {
   "cell_type": "code",
   "execution_count": 475,
   "metadata": {
    "collapsed": true
   },
   "outputs": [],
   "source": [
    "sess1_params = pd.read_csv(path2data + 'session1_hddm_params.csv')\n",
    "sess2_params = pd.read_csv(path2data + 'session2_hddm_params.csv')"
   ]
  },
  {
   "cell_type": "code",
   "execution_count": 476,
   "metadata": {
    "collapsed": true
   },
   "outputs": [],
   "source": [
    "all_params = pd.merge(sess1_params[['subj_idx','mean_v', 'mean_z', 'mean_a']], \\\n",
    "                      sess2_params, on= 'subj_idx')"
   ]
  },
  {
   "cell_type": "code",
   "execution_count": 486,
   "metadata": {
    "collapsed": false
   },
   "outputs": [
    {
     "data": {
      "text/plain": [
       "\n",
       "\tPearson's product-moment correlation\n",
       "\n",
       "data:  all_params$mean_v and all_params$mean_v2\n",
       "t = 4.6819, df = 46, p-value = 2.535e-05\n",
       "alternative hypothesis: true correlation is not equal to 0\n",
       "95 percent confidence interval:\n",
       " 0.3386165 0.7337843\n",
       "sample estimates:\n",
       "      cor \n",
       "0.5680934 \n",
       "\n"
      ]
     },
     "metadata": {},
     "output_type": "display_data"
    },
    {
     "data": {
      "image/png": "[encoded data removed]",
      "text/plain": [
       "<matplotlib.figure.Figure at 0x12fa16fd0>"
      ]
     },
     "metadata": {},
     "output_type": "display_data"
    }
   ],
   "source": [
    "corr_param = sns.lmplot(y='mean_v', \\\n",
    "                        x = 'mean_v2', data=all_params,ci=68, \\\n",
    "                        units = 'subj_idx')\n",
    "%Rpush all_params\n",
    "%R rl_disc.cor <- cor.test(all_params$mean_v,all_params$mean_v2,method=\"pearson\")\n",
    "%R print (rl_disc.cor)"
   ]
  },
  {
   "cell_type": "code",
   "execution_count": 487,
   "metadata": {
    "collapsed": false
   },
   "outputs": [
    {
     "data": {
      "text/plain": [
       "\n",
       "\tPearson's product-moment correlation\n",
       "\n",
       "data:  all_params$mean_a and all_params$mean_a2\n",
       "t = 3.2284, df = 46, p-value = 0.002298\n",
       "alternative hypothesis: true correlation is not equal to 0\n",
       "95 percent confidence interval:\n",
       " 0.1659248 0.6362344\n",
       "sample estimates:\n",
       "      cor \n",
       "0.4297967 \n",
       "\n"
      ]
     },
     "metadata": {},
     "output_type": "display_data"
    },
    {
     "data": {
      "image/png": "[encoded data removed]",
      "text/plain": [
       "<matplotlib.figure.Figure at 0x137830518>"
      ]
     },
     "metadata": {},
     "output_type": "display_data"
    }
   ],
   "source": [
    "# RT correlation\n",
    "corr_param = sns.lmplot(y='mean_a', \\\n",
    "                        x = 'mean_a2', data=all_params,ci=68, units = 'subj_idx')\n",
    "%Rpush all_params\n",
    "%R rl_disc.cor <- cor.test(all_params$mean_a,all_params$mean_a2,method=\"pearson\")\n",
    "%R print (rl_disc.cor)"
   ]
  },
  {
   "cell_type": "code",
   "execution_count": 488,
   "metadata": {
    "collapsed": false
   },
   "outputs": [
    {
     "data": {
      "text/plain": [
       "\n",
       "\tPearson's product-moment correlation\n",
       "\n",
       "data:  all_params$mean_z and all_params$mean_z2\n",
       "t = -2.5641, df = 46, p-value = 0.01368\n",
       "alternative hypothesis: true correlation is not equal to 0\n",
       "95 percent confidence interval:\n",
       " -0.57953100 -0.07725365\n",
       "sample estimates:\n",
       "       cor \n",
       "-0.3536261 \n",
       "\n"
      ]
     },
     "metadata": {},
     "output_type": "display_data"
    },
    {
     "data": {
      "image/png": "[encoded data removed]",
      "text/plain": [
       "<matplotlib.figure.Figure at 0x136612748>"
      ]
     },
     "metadata": {},
     "output_type": "display_data"
    }
   ],
   "source": [
    "# RT correlation\n",
    "corr_param = sns.lmplot(y='mean_z', \\\n",
    "                        x = 'mean_z2', data=all_params,ci=68, units = 'subj_idx')\n",
    "%Rpush all_params\n",
    "%R rl_disc.cor <- cor.test(all_params$mean_z,all_params$mean_z2,method=\"pearson\")\n",
    "%R print (rl_disc.cor)"
   ]
  },
  {
   "cell_type": "markdown",
   "metadata": {},
   "source": [
    "## Clinical measures"
   ]
  },
  {
   "cell_type": "code",
   "execution_count": null,
   "metadata": {
    "collapsed": true
   },
   "outputs": [],
   "source": []
  }
 ],
 "metadata": {
  "kernelspec": {
   "display_name": "PythonThreeFive",
   "language": "python",
   "name": "pythonthreefive"
  },
  "language_info": {
   "codemirror_mode": {
    "name": "ipython",
    "version": 3
   },
   "file_extension": ".py",
   "mimetype": "text/x-python",
   "name": "python",
   "nbconvert_exporter": "python",
   "pygments_lexer": "ipython3",
   "version": "3.5.2"
  }
 },
 "nbformat": 4,
 "nbformat_minor": 2
}
